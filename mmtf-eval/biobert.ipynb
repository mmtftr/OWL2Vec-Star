{
 "cells": [
  {
   "cell_type": "markdown",
   "metadata": {},
   "source": [
    "# Setup"
   ]
  },
  {
   "cell_type": "code",
   "execution_count": 3,
   "metadata": {},
   "outputs": [
    {
     "data": {
      "text/plain": [
       "(2, 768)"
      ]
     },
     "execution_count": 3,
     "metadata": {},
     "output_type": "execute_result"
    }
   ],
   "source": [
    "# Load model directly\n",
    "try:\n",
    "    import google.colab\n",
    "    dev = \"cuda\"\n",
    "    %pip install transformers\n",
    "except:\n",
    "    dev = \"mps\"\n",
    "\n",
    "from typing import Literal\n",
    "from sentence_transformers import SentenceTransformer\n",
    "from transformers import AutoTokenizer, AutoModel\n",
    "\n",
    "from tqdm import tqdm\n",
    "import torch\n",
    "\n",
    "model_type = 'sbert' # or 'sbert'\n",
    "model_name =  {\n",
    "    'bert': \"dmis-lab/biobert-base-cased-v1.2\",\n",
    "    'sbert': \"pritamdeka/S-BioBert-snli-multinli-stsb\"\n",
    "}\n",
    "\n",
    "if model_type == 'bert':\n",
    "    tokenizer = AutoTokenizer.from_pretrained(model_name[model_type])\n",
    "    model = AutoModel.from_pretrained(model_name[model_type])\n",
    "else:\n",
    "    model = SentenceTransformer(model_name[model_type])\n",
    "\n",
    "model = model.to(dev)\n",
    "\n",
    "sentences = [\"This is an example sentence\", \"Each sentence is converted\"]\n",
    "\n",
    "def mean_pool(hidden_states, attention_mask):\n",
    "    # Create mask for non-padding tokens\n",
    "    mask = attention_mask.unsqueeze(-1).expand(hidden_states.size()).float()\n",
    "    # Sum all non-padding token embeddings\n",
    "    summed = torch.sum(hidden_states * mask, dim=1)\n",
    "    # Count non-padding tokens\n",
    "    count = torch.clamp(mask.sum(1), min=1e-9)\n",
    "    # Calculate mean\n",
    "    return summed / count\n",
    "\n",
    "if model_type == 'sbert':\n",
    "    embeddings = model.encode(sentences, convert_to_tensor=True, device=dev).cpu().numpy()\n",
    "else:\n",
    "    inputs = tokenizer(sentences, return_tensors=\"pt\", padding=True)\n",
    "    with torch.no_grad():\n",
    "        inputs = inputs.to(dev)\n",
    "        outputs = model(**inputs)\n",
    "    embeddings = mean_pool(outputs.last_hidden_state, inputs['attention_mask']).cpu().numpy()\n",
    "\n",
    "\n",
    "embeddings.shape\n",
    "\n"
   ]
  },
  {
   "cell_type": "code",
   "execution_count": 6,
   "metadata": {},
   "outputs": [
    {
     "data": {
      "text/plain": [
       "GO_1901640         Binding to XTP.\\n\n",
       "GO_1901641         Binding to ITP.\\n\n",
       "GO_2001062       Binding to xylan.\\n\n",
       "GO_1904067      Binding to ascr#2.\\n\n",
       "GO_0044589      Binding to pectin.\\n\n",
       "GO_0097645      Binding to amylin.\\n\n",
       "GO_2001082      Binding to inulin.\\n\n",
       "GO_2001070      Binding to starch.\\n\n",
       "GO_0002058      Binding to uracil.\\n\n",
       "GO_0002057     Binding to guanine.\\n\n",
       "GO_0030977     Binding to taurine.\\n\n",
       "GO_0008289     Binding to a lipid.\\n\n",
       "GO_1901982     Binding to maltose.\\n\n",
       "GO_0002059     Binding to thymine.\\n\n",
       "GO_1901973     Binding to proline.\\n\n",
       "GO_2001065     mannoglycan binding\\n\n",
       "GO_0035473    Binding to a lipase.\\n\n",
       "GO_1903794    Binding to cortisol.\\n\n",
       "GO_0002056    Binding to cytosine.\\n\n",
       "GO_1901691    hydrogen ion binding\\n\n",
       "dtype: object"
      ]
     },
     "execution_count": 6,
     "metadata": {},
     "output_type": "execute_result"
    }
   ],
   "source": [
    "from pathlib import Path\n",
    "import re\n",
    "import pandas as pd\n",
    "\n",
    "base_path = Path(\"./go-basic/\")\n",
    "\n",
    "no_information = re.compile(r\"molecular_function|biological_process|cellular_component|preferred_label\")\n",
    "\n",
    "annots = {}\n",
    "with open(base_path / \"cache\"/ \"annotations.txt\", \"r\") as f:\n",
    "  for line in f:\n",
    "    uri, annot = line.split(maxsplit=1)\n",
    "\n",
    "    annot_clean = no_information.sub(\"\", annot)\n",
    "\n",
    "    go_id = uri.split(\"/\")[-1]\n",
    "    if go_id not in annots or len(annots[go_id]) < len(annot_clean):\n",
    "      annots[go_id] = annot_clean\n",
    "\n",
    "\n",
    "annot_srs = pd.Series(annots).filter(regex=\"^GO\")\n",
    "\n",
    "annot_srs.sort_values(key=lambda x: x.str.len(), ascending=True)[:20]\n"
   ]
  },
  {
   "cell_type": "code",
   "execution_count": 50,
   "metadata": {},
   "outputs": [],
   "source": [
    "all_lines = []\n",
    "for file in base_path.glob(\"split/*.csv\"):\n",
    "  with open(file) as f:\n",
    "    for line in f:\n",
    "      all_lines.append(line.strip())\n",
    "\n",
    "all_gos = set(line.split(',')[0] for line in all_lines) | set(line.split(',')[1] for line in all_lines)"
   ]
  },
  {
   "cell_type": "code",
   "execution_count": 51,
   "metadata": {},
   "outputs": [
    {
     "data": {
      "text/plain": [
       "(2074, 47050)"
      ]
     },
     "execution_count": 51,
     "metadata": {},
     "output_type": "execute_result"
    }
   ],
   "source": [
    "missing_gos = [go for go in all_gos if go.split('/')[-1] not in annots]\n",
    "\n",
    "len(missing_gos), len(all_gos)\n"
   ]
  },
  {
   "cell_type": "markdown",
   "metadata": {},
   "source": [
    "# Calculate Embeddings"
   ]
  },
  {
   "cell_type": "code",
   "execution_count": 52,
   "metadata": {},
   "outputs": [
    {
     "name": "stderr",
     "output_type": "stream",
     "text": [
      "Processing batches: 100%|██████████| 106/106 [03:28<00:00,  1.97s/it]\n"
     ]
    }
   ],
   "source": [
    "import gc\n",
    "from pathlib import Path\n",
    "import numpy as np\n",
    "\n",
    "\n",
    "n = 0\n",
    "def clean_memory():\n",
    "    global n\n",
    "    gc.collect()\n",
    "    n += 1\n",
    "    if n % 3 == 0:\n",
    "      torch.mps.empty_cache()  # for MPS (Apple Silicon)\n",
    "    # If using CUDA, use: torch.cuda.empty_cache()\n",
    "\n",
    "\n",
    "\n",
    "keys = list(annots.keys())\n",
    "\n",
    "sentences = [annots[key] for key in keys]\n",
    "\n",
    "# Process and save in batches\n",
    "batch_size = 512\n",
    "save_every = 1000  # Save after processing this many samples\n",
    "embeddings = []\n",
    "save_path = base_path / f\"{model_type}\"\n",
    "save_path.mkdir(exist_ok=True)\n",
    "\n",
    "for i in tqdm(range(0, len(sentences), batch_size), desc=\"Processing batches\"):\n",
    "    clean_memory()\n",
    "\n",
    "    batch = sentences[i:i + batch_size]\n",
    "    if model_type == 'sbert':\n",
    "        batch_embeddings = model.encode(batch, convert_to_tensor=True, device=dev).cpu().numpy()\n",
    "    else:\n",
    "        inputs = tokenizer(\n",
    "            batch,\n",
    "        return_tensors=\"pt\",\n",
    "        padding=True,\n",
    "        truncation=True,\n",
    "        max_length=512\n",
    "        ).to(dev)\n",
    "\n",
    "        with torch.no_grad():\n",
    "            outputs = model(**inputs)\n",
    "        # Mean pool the output\n",
    "        batch_embeddings = mean_pool(\n",
    "            outputs.last_hidden_state,\n",
    "            inputs['attention_mask']\n",
    "        ).cpu().numpy()\n",
    "\n",
    "    embeddings.extend(batch_embeddings)\n",
    "\n",
    "    # Save partial progress\n",
    "    if len(embeddings) >= save_every:\n",
    "        batch_num = i // save_every\n",
    "        np.save(\n",
    "            save_path / f\"embeddings_batch_{batch_num}.npy\",\n",
    "            np.array(embeddings)\n",
    "        )\n",
    "        embeddings = []  # Clear list after saving\n",
    "\n",
    "# Save any remaining embeddings\n",
    "if embeddings:\n",
    "    batch_num = len(sentences) // save_every\n",
    "    np.save(\n",
    "        save_path / f\"embeddings_batch_{batch_num}.npy\",\n",
    "        np.array(embeddings)\n",
    "    )\n",
    "\n",
    "\n"
   ]
  },
  {
   "cell_type": "code",
   "execution_count": 53,
   "metadata": {},
   "outputs": [
    {
     "data": {
      "text/html": [
       "<pre style=\"white-space:pre;overflow-x:auto;line-height:normal;font-family:Menlo,'DejaVu Sans Mono',consolas,'Courier New',monospace\">Saved merged embeddings with shape: <span style=\"font-weight: bold\">(</span><span style=\"color: #008080; text-decoration-color: #008080; font-weight: bold\">54217</span>, <span style=\"color: #008080; text-decoration-color: #008080; font-weight: bold\">768</span><span style=\"font-weight: bold\">)</span>\n",
       "</pre>\n"
      ],
      "text/plain": [
       "Saved merged embeddings with shape: \u001b[1m(\u001b[0m\u001b[1;36m54217\u001b[0m, \u001b[1;36m768\u001b[0m\u001b[1m)\u001b[0m\n"
      ]
     },
     "metadata": {},
     "output_type": "display_data"
    }
   ],
   "source": [
    "# Get all embedding files and sort by batch number\n",
    "embedding_files = list(save_path.glob(\"embeddings_batch_*.npy\"))\n",
    "embedding_files.sort(key=lambda x: int(str(x).split(\"_\")[-1].split(\".\")[0]))\n",
    "\n",
    "# Load and concatenate all embeddings\n",
    "all_embeddings = []\n",
    "for file in embedding_files:\n",
    "    batch_embeddings = np.load(file)\n",
    "    all_embeddings.append(batch_embeddings)\n",
    "\n",
    "# Create dict mapping keys to embeddings\n",
    "final_embeddings = np.concatenate(all_embeddings, axis=0)\n",
    "embeddings_dict = {key: emb for key, emb in zip(keys, final_embeddings)}\n",
    "\n",
    "# Save final merged embeddings dict\n",
    "np.save(save_path / \"ontology.embeddings.npy\", embeddings_dict)\n",
    "\n",
    "# Clean up intermediate files\n",
    "for file in embedding_files:\n",
    "    file.unlink()\n",
    "\n",
    "print(f\"Saved merged embeddings with shape: {final_embeddings.shape}\")\n",
    "\n",
    "\n"
   ]
  },
  {
   "cell_type": "markdown",
   "metadata": {},
   "source": [
    "# Tokenizer token loss"
   ]
  },
  {
   "cell_type": "code",
   "execution_count": 9,
   "metadata": {},
   "outputs": [
    {
     "name": "stderr",
     "output_type": "stream",
     "text": [
      "Token indices sequence length is longer than the specified maximum sequence length for this model (106 > 75). Running this sequence through the model will result in indexing errors\n"
     ]
    }
   ],
   "source": [
    "from rich import print, inspect\n",
    "\n",
    "keys = list(annots.keys())\n",
    "\n",
    "sentences = [annots[key] for key in keys]\n",
    "toks = model._modules['0'].tokenizer(sentences)['input_ids']\n",
    "\n"
   ]
  },
  {
   "cell_type": "code",
   "execution_count": 16,
   "metadata": {},
   "outputs": [
    {
     "data": {
      "image/png": "[encoded data removed]",
      "text/plain": [
       "<Figure size 1000x600 with 1 Axes>"
      ]
     },
     "metadata": {},
     "output_type": "display_data"
    },
    {
     "data": {
      "text/html": [
       "<pre style=\"white-space:pre;overflow-x:auto;line-height:normal;font-family:Menlo,'DejaVu Sans Mono',consolas,'Courier New',monospace\">Min length: <span style=\"color: #008080; text-decoration-color: #008080; font-weight: bold\">3</span> toks\n",
       "</pre>\n"
      ],
      "text/plain": [
       "Min length: \u001b[1;36m3\u001b[0m toks\n"
      ]
     },
     "metadata": {},
     "output_type": "display_data"
    },
    {
     "data": {
      "text/html": [
       "<pre style=\"white-space:pre;overflow-x:auto;line-height:normal;font-family:Menlo,'DejaVu Sans Mono',consolas,'Courier New',monospace\">Max length: <span style=\"color: #008080; text-decoration-color: #008080; font-weight: bold\">438</span> toks\n",
       "</pre>\n"
      ],
      "text/plain": [
       "Max length: \u001b[1;36m438\u001b[0m toks\n"
      ]
     },
     "metadata": {},
     "output_type": "display_data"
    },
    {
     "data": {
      "text/html": [
       "<pre style=\"white-space:pre;overflow-x:auto;line-height:normal;font-family:Menlo,'DejaVu Sans Mono',consolas,'Courier New',monospace\">Mean length: <span style=\"color: #008080; text-decoration-color: #008080; font-weight: bold\">42.1</span> toks\n",
       "</pre>\n"
      ],
      "text/plain": [
       "Mean length: \u001b[1;36m42.1\u001b[0m toks\n"
      ]
     },
     "metadata": {},
     "output_type": "display_data"
    },
    {
     "data": {
      "text/html": [
       "<pre style=\"white-space:pre;overflow-x:auto;line-height:normal;font-family:Menlo,'DejaVu Sans Mono',consolas,'Courier New',monospace\">Sentences with lost information: <span style=\"color: #008080; text-decoration-color: #008080; font-weight: bold\">5094</span>/<span style=\"color: #008080; text-decoration-color: #008080; font-weight: bold\">54217</span>\n",
       "</pre>\n"
      ],
      "text/plain": [
       "Sentences with lost information: \u001b[1;36m5094\u001b[0m/\u001b[1;36m54217\u001b[0m\n"
      ]
     },
     "metadata": {},
     "output_type": "display_data"
    },
    {
     "data": {
      "text/html": [
       "<pre style=\"white-space:pre;overflow-x:auto;line-height:normal;font-family:Menlo,'DejaVu Sans Mono',consolas,'Courier New',monospace\">Average toks lost: <span style=\"color: #008080; text-decoration-color: #008080; font-weight: bold\">29.3</span> toks/sentence\n",
       "</pre>\n"
      ],
      "text/plain": [
       "Average toks lost: \u001b[1;36m29.3\u001b[0m toks/sentence\n"
      ]
     },
     "metadata": {},
     "output_type": "display_data"
    }
   ],
   "source": [
    "# Get lengths of each tokenized sequence\n",
    "lengths = [len(t) for t in toks]\n",
    "import matplotlib.pyplot as plt\n",
    "import numpy as np\n",
    "\n",
    "\n",
    "# Create histogram\n",
    "plt.figure(figsize=(10,6))\n",
    "plt.hist(lengths, bins=60)\n",
    "plt.xticks(range(0, 600, 25))\n",
    "plt.xlabel('Sequence Length')\n",
    "plt.ylabel('Count')\n",
    "plt.title('Distribution of Tokenized Sequence Lengths')\n",
    "plt.axvline(75, color='red', linestyle='--', label='75 toks')\n",
    "plt.legend()\n",
    "plt.grid(True)\n",
    "plt.show()\n",
    "\n",
    "print(f\"Min length: {min(lengths)} toks\")\n",
    "print(f\"Max length: {max(lengths)} toks\")\n",
    "print(f\"Mean length: {np.mean(lengths):.1f} toks\")\n",
    "print(f\"Sentences with lost information: {sum(1 for l in lengths if l > 75)}/{len(lengths)}\")\n",
    "print(f\"Average toks lost: {(sum(l - 75 for l in lengths if l > 75) / sum(1 for l in lengths if l > 75)):.1f} toks/sentence\")\n"
   ]
  },
  {
   "cell_type": "code",
   "execution_count": 10,
   "metadata": {},
   "outputs": [
    {
     "data": {
      "text/plain": [
       "54217"
      ]
     },
     "execution_count": 10,
     "metadata": {},
     "output_type": "execute_result"
    }
   ],
   "source": [
    "len(np.load(save_path / \"ontology.embeddings.npy\", allow_pickle=True).item().keys())\n"
   ]
  },
  {
   "cell_type": "markdown",
   "metadata": {},
   "source": [
    "# Graph Checks (Deprecated, etc.)"
   ]
  },
  {
   "cell_type": "code",
   "execution_count": 42,
   "metadata": {},
   "outputs": [
    {
     "data": {
      "text/plain": [
       "<Graph identifier=N01921ccfb5bb48daa5c94d94c9f17a8c (<class 'rdflib.graph.Graph'>)>"
      ]
     },
     "execution_count": 42,
     "metadata": {},
     "output_type": "execute_result"
    }
   ],
   "source": [
    "import rdflib\n",
    "\n",
    "g = rdflib.Graph()\n",
    "g.parse(\"go-basic.owl\")\n",
    "\n"
   ]
  },
  {
   "cell_type": "code",
   "execution_count": 46,
   "metadata": {},
   "outputs": [
    {
     "data": {
      "text/plain": [
       "196733"
      ]
     },
     "execution_count": 46,
     "metadata": {},
     "output_type": "execute_result"
    }
   ],
   "source": [
    "len([s for s in set(g.objects()) | set(g.subjects()) if not isinstance(s, rdflib.Literal)])\n"
   ]
  },
  {
   "cell_type": "code",
   "execution_count": 49,
   "metadata": {},
   "outputs": [
    {
     "data": {
      "text/plain": [
       "51550"
      ]
     },
     "execution_count": 49,
     "metadata": {},
     "output_type": "execute_result"
    }
   ],
   "source": [
    "\n",
    "go_terms = set()\n",
    "GO = rdflib.Namespace(\"http://purl.obolibrary.org/obo/GO_\")\n",
    "for s, p, o in g:\n",
    "    # Check subject\n",
    "    if isinstance(s, rdflib.URIRef) and str(s).startswith(str(GO)):\n",
    "        go_terms.add(s)\n",
    "    # Check object\n",
    "    if isinstance(o, rdflib.URIRef) and str(o).startswith(str(\"GO\")):\n",
    "        go_terms.add(o)\n",
    "\n",
    "len(go_terms)\n"
   ]
  },
  {
   "cell_type": "code",
   "execution_count": 39,
   "metadata": {},
   "outputs": [
    {
     "data": {
      "text/plain": [
       "2131"
      ]
     },
     "execution_count": 39,
     "metadata": {},
     "output_type": "execute_result"
    }
   ],
   "source": [
    "\n",
    "# Get annotations for missing GO terms from the graph\n",
    "total_deprecated = 0\n",
    "for go_uri in missing_gos:\n",
    "    go_id = go_uri.split('/')[-1]\n",
    "\n",
    "    # Get all objects (annotations) for this GO term\n",
    "    for s, p, o in g.triples((rdflib.URIRef(go_uri), None, None)):\n",
    "        #print(s, p, o)\n",
    "        if p == rdflib.URIRef('http://www.w3.org/2002/07/owl#deprecated'):\n",
    "          total_deprecated += 1\n",
    "        # Check if predicate is a label or definition\n",
    "        if p in [rdflib.URIRef('http://www.w3.org/2000/01/rdf-schema#label'),\n",
    "                rdflib.URIRef('http://purl.obolibrary.org/obo/IAO_0000115')]:\n",
    "            if go_id not in annots:\n",
    "                annots[go_id] = \"\"\n",
    "            # Add the literal value to annotations\n",
    "            if isinstance(o, rdflib.Literal):\n",
    "                annots[go_id] += str(o) + \" \"\n",
    "\n",
    "total_deprecated\n"
   ]
  }
 ],
 "metadata": {
  "kernelspec": {
   "display_name": "default",
   "language": "python",
   "name": "python3"
  },
  "language_info": {
   "codemirror_mode": {
    "name": "ipython",
    "version": 3
   },
   "file_extension": ".py",
   "mimetype": "text/x-python",
   "name": "python",
   "nbconvert_exporter": "python",
   "pygments_lexer": "ipython3",
   "version": "3.12.0"
  }
 },
 "nbformat": 4,
 "nbformat_minor": 2
}
