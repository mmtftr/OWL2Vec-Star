{
 "cells": [
  {
   "cell_type": "code",
   "execution_count": 2,
   "metadata": {},
   "outputs": [
    {
     "name": "stdout",
     "output_type": "stream",
     "text": [
      "\n",
      "Detailed Results:\n",
      "metric                                      Hits@1  Hits@10  Hits@5    MRR\n",
      "base_ontology embedding_type model                                        \n",
      "go-basic      anc2vec        MLPClassifier   0.035    0.322   0.185  0.123\n",
      "              owl2vec        MLPClassifier   0.056    0.324   0.209  0.143\n",
      "go-full       anc2vec        MLPClassifier   0.034    0.306   0.173  0.118\n",
      "              biobert        MLPClassifier   0.016    0.155   0.077  0.066\n",
      "              owl2vec        MLPClassifier   0.042    0.301   0.183  0.123\n"
     ]
    }
   ],
   "source": [
    "import wandb\n",
    "import pandas as pd\n",
    "import seaborn as sns\n",
    "import matplotlib.pyplot as plt\n",
    "from typing import List, Dict\n",
    "\n",
    "# Initialize wandb\n",
    "api = wandb.Api()\n",
    "\n",
    "# Get runs from your project\n",
    "runs = api.runs(\"go-embedding-evaluation\")  # Replace with your actual project name\n"
   ]
  },
  {
   "cell_type": "code",
   "execution_count": 3,
   "metadata": {},
   "outputs": [
    {
     "name": "stdout",
     "output_type": "stream",
     "text": [
      "\n",
      "Detailed Results:\n",
      "metric                                      Hits@1  Hits@10  Hits@5    MRR\n",
      "base_ontology embedding_type model                                        \n",
      "go-basic      anc2vec        MLPClassifier   0.035    0.322   0.185  0.123\n",
      "              owl2vec        MLPClassifier   0.056    0.324   0.209  0.143\n",
      "go-full       anc2vec        MLPClassifier   0.034    0.306   0.173  0.118\n",
      "              biobert        MLPClassifier   0.016    0.155   0.077  0.066\n",
      "              owl2vec        MLPClassifier   0.042    0.301   0.183  0.123\n"
     ]
    }
   ],
   "source": [
    "\n",
    "# Collect data\n",
    "data = []\n",
    "for run in runs:\n",
    "    config = run.config\n",
    "    # Get the last logged metrics\n",
    "    history = run.history()\n",
    "    if not history.empty:\n",
    "        # Extract metrics for each embedding type and model\n",
    "        for _, metrics in history.iterrows():\n",
    "            metrics_dict = metrics.to_dict()\n",
    "            for key, value in metrics_dict.items():\n",
    "                if isinstance(value, (int, float)):  # Filter out non-numeric values\n",
    "                    # Parse the metric key (format: \"embedding_type/model/metric\")\n",
    "                    parts = key.split('/')\n",
    "                    if len(parts) == 3:\n",
    "                        embedding_type, model, metric = parts\n",
    "                        if model == 'MLPClassifier':\n",
    "                            data.append({\n",
    "                                'base_ontology': config.get('base_ontology', 'unknown'),\n",
    "                                'embedding_type': embedding_type,\n",
    "                                'model': model,\n",
    "                                'metric': metric,\n",
    "                                'value': value\n",
    "                            })\n",
    "# Convert to DataFrame\n",
    "df = pd.DataFrame(data)\n",
    "\n",
    "# Create summary table\n",
    "summary_table = df.pivot_table(\n",
    "    index=['base_ontology', 'embedding_type', 'model'],\n",
    "    columns='metric',\n",
    "    values='value',\n",
    "    aggfunc='last'\n",
    ").round(3)\n",
    "\n",
    "# Display the table\n",
    "print(\"\\nDetailed Results:\")\n",
    "print(summary_table)"
   ]
  }
 ],
 "metadata": {
  "kernelspec": {
   "display_name": "default",
   "language": "python",
   "name": "python3"
  },
  "language_info": {
   "codemirror_mode": {
    "name": "ipython",
    "version": 3
   },
   "file_extension": ".py",
   "mimetype": "text/x-python",
   "name": "python",
   "nbconvert_exporter": "python",
   "pygments_lexer": "ipython3",
   "version": "3.9.20"
  }
 },
 "nbformat": 4,
 "nbformat_minor": 2
}
