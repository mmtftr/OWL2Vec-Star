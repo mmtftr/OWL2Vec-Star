{
 "cells": [
  {
   "cell_type": "code",
   "execution_count": null,
   "metadata": {},
   "outputs": [],
   "source": [
    "# @title Setup (Deps)\n",
    "try:\n",
    "  from google.colab import drive, userdata\n",
    "  if not os.path.exists(\"owl2vec_star\"):\n",
    "    !rm -rf * .config\n",
    "    !git clone https://github.com/mmtftr/owl2vec_star.git .\n",
    "\n",
    "  import os\n",
    "\n",
    "  wandb_api_key = userdata.get('WANDB_API_KEY')\n",
    "  drive.mount('/content/drive')\n",
    "  os.environ['WANDB_API_KEY'] = wandb_api_key\n",
    "  if not os.path.exists(\"/content/drive/MyDrive/research/GO_emb\"):\n",
    "    raise Exception(\"GO_emb directory not found in drive\")\n",
    "\n",
    "  !cp -r /content/drive/MyDrive/research/GO_emb/* .\n",
    "  !unzip go-basic.zip -d go-basic\n",
    "  !unzip go-full.zip -d go-full\n",
    "  %pip install -r requirements_owl2vec.txt\n",
    "  %cd mmtf-eval\n",
    "except:\n",
    "  device = \"mps\" if torch.mps.is_available() else \"cpu\""
   ]
  },
  {
   "cell_type": "code",
   "execution_count": null,
   "metadata": {},
   "outputs": [],
   "source": [
    "\n",
    "# @title Configuration\n",
    "# @arg base_ontology: \"go-basic\" or \"go-full\"\n",
    "# @arg embedding_types: list of embedding types to evaluate\n",
    "# @arg models: list of models to evaluate\n",
    "# @arg input_type: \"concatenate\" or \"minus\"\n",
    "# @arg random_seed: random seed\n",
    "base_ontology = \"go-basic\"\n",
    "embedding_types = [\"owl2vec\"]\n",
    "models = [\"mlp\"]\n",
    "input_type = \"concatenate\"\n",
    "random_seed = 42\n",
    "\n",
    "emb_types_str = \", \".join([f\"{emb_type}\" for emb_type in embedding_types])\n",
    "models_str = \", \".join([f\"{model}\" for model in models])\n",
    "\n",
    "config = f\"\"\"\n",
    "# Project settings\n",
    "project_name: \"go-embedding-evaluation\"\n",
    "base_ontology: {base_ontology}\n",
    "embedding_types: [{emb_types_str}]\n",
    "models: [{models_str}]\n",
    "input_type: {input_type}\n",
    "random_seed: {random_seed}\n",
    "\n",
    "\n",
    "# Training parameters\n",
    "batch_size: 128\n",
    "learning_rate: 0.001\n",
    "num_epochs: 100\n",
    "\"\"\"\n",
    "\n",
    "with open(\"config.yaml\", \"w\") as f:\n",
    "  f.write(config)\n"
   ]
  },
  {
   "cell_type": "code",
   "execution_count": null,
   "metadata": {},
   "outputs": [],
   "source": [
    "!python embedding_evaluation.py"
   ]
  }
 ],
 "metadata": {
  "language_info": {
   "name": "python"
  }
 },
 "nbformat": 4,
 "nbformat_minor": 2
}
