{
 "cells": [
  {
   "cell_type": "code",
   "execution_count": 1,
   "metadata": {},
   "outputs": [],
   "source": [
    "# validate embedding files against our datasets\n",
    "\n",
    "import numpy as np\n",
    "import pandas as pd\n",
    "import gensim\n",
    "from pathlib import Path\n",
    "%load_ext autoreload\n",
    "%autoreload 2\n",
    "\n",
    "base_path = Path(\"go-full\")"
   ]
  },
  {
   "cell_type": "code",
   "execution_count": 2,
   "metadata": {},
   "outputs": [],
   "source": [
    "all_lines = []\n",
    "for file in base_path.glob(\"split/*.csv\"):\n",
    "  with open(file) as f:\n",
    "    for line in f:\n",
    "      all_lines.append(line.strip())\n",
    "\n",
    "all_gos = set([line.split(',')[0] for line in all_lines]) | set([line.split(',')[1] for line in all_lines])"
   ]
  },
  {
   "cell_type": "code",
   "execution_count": 3,
   "metadata": {},
   "outputs": [
    {
     "data": {
      "text/html": [
       "<pre style=\"white-space:pre;overflow-x:auto;line-height:normal;font-family:Menlo,'DejaVu Sans Mono',consolas,'Courier New',monospace\"><span style=\"color: #7fbfbf; text-decoration-color: #7fbfbf\">[08:33:41] </span><span style=\"color: #000080; text-decoration-color: #000080\">INFO    </span> Loading OWL2Vec embeddings from                                      <a href=\"file:///Users/mmtf/p/research/contempro/owl2vec_star/mmtf-eval/embedding_evaluation.py\" target=\"_blank\"><span style=\"color: #7f7f7f; text-decoration-color: #7f7f7f\">embedding_evaluation.py</span></a><span style=\"color: #7f7f7f; text-decoration-color: #7f7f7f\">:</span><a href=\"file:///Users/mmtf/p/research/contempro/owl2vec_star/mmtf-eval/embedding_evaluation.py#79\" target=\"_blank\"><span style=\"color: #7f7f7f; text-decoration-color: #7f7f7f\">79</span></a>\n",
       "<span style=\"color: #7fbfbf; text-decoration-color: #7fbfbf\">           </span>         go-full/owl2vec/ontology.embeddings.npy                              <span style=\"color: #7f7f7f; text-decoration-color: #7f7f7f\">                          </span>\n",
       "</pre>\n"
      ],
      "text/plain": [
       "\u001b[2;36m[08:33:41]\u001b[0m\u001b[2;36m \u001b[0m\u001b[34mINFO    \u001b[0m Loading OWL2Vec embeddings from                                      \u001b]8;id=819191;file:///Users/mmtf/p/research/contempro/owl2vec_star/mmtf-eval/embedding_evaluation.py\u001b\\\u001b[2membedding_evaluation.py\u001b[0m\u001b]8;;\u001b\\\u001b[2m:\u001b[0m\u001b]8;id=887177;file:///Users/mmtf/p/research/contempro/owl2vec_star/mmtf-eval/embedding_evaluation.py#79\u001b\\\u001b[2m79\u001b[0m\u001b]8;;\u001b\\\n",
       "\u001b[2;36m           \u001b[0m         go-full/owl2vec/ontology.embeddings.npy                              \u001b[2m                          \u001b[0m\n"
      ]
     },
     "metadata": {},
     "output_type": "display_data"
    },
    {
     "data": {
      "text/html": [
       "<pre style=\"white-space:pre;overflow-x:auto;line-height:normal;font-family:Menlo,'DejaVu Sans Mono',consolas,'Courier New',monospace\"><span style=\"color: #7fbfbf; text-decoration-color: #7fbfbf\">           </span><span style=\"color: #000080; text-decoration-color: #000080\">INFO    </span> Loaded <span style=\"color: #008080; text-decoration-color: #008080; font-weight: bold\">51550</span> OWL2Vec embeddings                                      <a href=\"file:///Users/mmtf/p/research/contempro/owl2vec_star/mmtf-eval/embedding_evaluation.py\" target=\"_blank\"><span style=\"color: #7f7f7f; text-decoration-color: #7f7f7f\">embedding_evaluation.py</span></a><span style=\"color: #7f7f7f; text-decoration-color: #7f7f7f\">:</span><a href=\"file:///Users/mmtf/p/research/contempro/owl2vec_star/mmtf-eval/embedding_evaluation.py#81\" target=\"_blank\"><span style=\"color: #7f7f7f; text-decoration-color: #7f7f7f\">81</span></a>\n",
       "</pre>\n"
      ],
      "text/plain": [
       "\u001b[2;36m          \u001b[0m\u001b[2;36m \u001b[0m\u001b[34mINFO    \u001b[0m Loaded \u001b[1;36m51550\u001b[0m OWL2Vec embeddings                                      \u001b]8;id=119142;file:///Users/mmtf/p/research/contempro/owl2vec_star/mmtf-eval/embedding_evaluation.py\u001b\\\u001b[2membedding_evaluation.py\u001b[0m\u001b]8;;\u001b\\\u001b[2m:\u001b[0m\u001b]8;id=888309;file:///Users/mmtf/p/research/contempro/owl2vec_star/mmtf-eval/embedding_evaluation.py#81\u001b\\\u001b[2m81\u001b[0m\u001b]8;;\u001b\\\n"
      ]
     },
     "metadata": {},
     "output_type": "display_data"
    },
    {
     "data": {
      "text/html": [
       "<pre style=\"white-space:pre;overflow-x:auto;line-height:normal;font-family:Menlo,'DejaVu Sans Mono',consolas,'Courier New',monospace\"><span style=\"color: #7fbfbf; text-decoration-color: #7fbfbf\">           </span><span style=\"color: #000080; text-decoration-color: #000080\">INFO    </span> Loading Anc2Vec embeddings from                                      <a href=\"file:///Users/mmtf/p/research/contempro/owl2vec_star/mmtf-eval/embedding_evaluation.py\" target=\"_blank\"><span style=\"color: #7f7f7f; text-decoration-color: #7f7f7f\">embedding_evaluation.py</span></a><span style=\"color: #7f7f7f; text-decoration-color: #7f7f7f\">:</span><a href=\"file:///Users/mmtf/p/research/contempro/owl2vec_star/mmtf-eval/embedding_evaluation.py#68\" target=\"_blank\"><span style=\"color: #7f7f7f; text-decoration-color: #7f7f7f\">68</span></a>\n",
       "<span style=\"color: #7fbfbf; text-decoration-color: #7fbfbf\">           </span>         go-full/anc2vec/ontology.embeddings.npy                              <span style=\"color: #7f7f7f; text-decoration-color: #7f7f7f\">                          </span>\n",
       "</pre>\n"
      ],
      "text/plain": [
       "\u001b[2;36m          \u001b[0m\u001b[2;36m \u001b[0m\u001b[34mINFO    \u001b[0m Loading Anc2Vec embeddings from                                      \u001b]8;id=470923;file:///Users/mmtf/p/research/contempro/owl2vec_star/mmtf-eval/embedding_evaluation.py\u001b\\\u001b[2membedding_evaluation.py\u001b[0m\u001b]8;;\u001b\\\u001b[2m:\u001b[0m\u001b]8;id=389616;file:///Users/mmtf/p/research/contempro/owl2vec_star/mmtf-eval/embedding_evaluation.py#68\u001b\\\u001b[2m68\u001b[0m\u001b]8;;\u001b\\\n",
       "\u001b[2;36m           \u001b[0m         go-full/anc2vec/ontology.embeddings.npy                              \u001b[2m                          \u001b[0m\n"
      ]
     },
     "metadata": {},
     "output_type": "display_data"
    },
    {
     "data": {
      "text/html": [
       "<pre style=\"white-space:pre;overflow-x:auto;line-height:normal;font-family:Menlo,'DejaVu Sans Mono',consolas,'Courier New',monospace\"><span style=\"color: #7fbfbf; text-decoration-color: #7fbfbf\">[08:33:42] </span><span style=\"color: #000080; text-decoration-color: #000080\">INFO    </span> Loaded <span style=\"color: #008080; text-decoration-color: #008080; font-weight: bold\">40939</span> Anc2Vec embeddings                                      <a href=\"file:///Users/mmtf/p/research/contempro/owl2vec_star/mmtf-eval/embedding_evaluation.py\" target=\"_blank\"><span style=\"color: #7f7f7f; text-decoration-color: #7f7f7f\">embedding_evaluation.py</span></a><span style=\"color: #7f7f7f; text-decoration-color: #7f7f7f\">:</span><a href=\"file:///Users/mmtf/p/research/contempro/owl2vec_star/mmtf-eval/embedding_evaluation.py#75\" target=\"_blank\"><span style=\"color: #7f7f7f; text-decoration-color: #7f7f7f\">75</span></a>\n",
       "</pre>\n"
      ],
      "text/plain": [
       "\u001b[2;36m[08:33:42]\u001b[0m\u001b[2;36m \u001b[0m\u001b[34mINFO    \u001b[0m Loaded \u001b[1;36m40939\u001b[0m Anc2Vec embeddings                                      \u001b]8;id=973848;file:///Users/mmtf/p/research/contempro/owl2vec_star/mmtf-eval/embedding_evaluation.py\u001b\\\u001b[2membedding_evaluation.py\u001b[0m\u001b]8;;\u001b\\\u001b[2m:\u001b[0m\u001b]8;id=526538;file:///Users/mmtf/p/research/contempro/owl2vec_star/mmtf-eval/embedding_evaluation.py#75\u001b\\\u001b[2m75\u001b[0m\u001b]8;;\u001b\\\n"
      ]
     },
     "metadata": {},
     "output_type": "display_data"
    },
    {
     "data": {
      "text/html": [
       "<pre style=\"white-space:pre;overflow-x:auto;line-height:normal;font-family:Menlo,'DejaVu Sans Mono',consolas,'Courier New',monospace\"><span style=\"color: #7fbfbf; text-decoration-color: #7fbfbf\">           </span><span style=\"color: #000080; text-decoration-color: #000080\">INFO    </span> Loading BioBERT embeddings from                                      <a href=\"file:///Users/mmtf/p/research/contempro/owl2vec_star/mmtf-eval/embedding_evaluation.py\" target=\"_blank\"><span style=\"color: #7f7f7f; text-decoration-color: #7f7f7f\">embedding_evaluation.py</span></a><span style=\"color: #7f7f7f; text-decoration-color: #7f7f7f\">:</span><a href=\"file:///Users/mmtf/p/research/contempro/owl2vec_star/mmtf-eval/embedding_evaluation.py#85\" target=\"_blank\"><span style=\"color: #7f7f7f; text-decoration-color: #7f7f7f\">85</span></a>\n",
       "<span style=\"color: #7fbfbf; text-decoration-color: #7fbfbf\">           </span>         go-full/biobert/ontology.embeddings.npy                              <span style=\"color: #7f7f7f; text-decoration-color: #7f7f7f\">                          </span>\n",
       "</pre>\n"
      ],
      "text/plain": [
       "\u001b[2;36m          \u001b[0m\u001b[2;36m \u001b[0m\u001b[34mINFO    \u001b[0m Loading BioBERT embeddings from                                      \u001b]8;id=697055;file:///Users/mmtf/p/research/contempro/owl2vec_star/mmtf-eval/embedding_evaluation.py\u001b\\\u001b[2membedding_evaluation.py\u001b[0m\u001b]8;;\u001b\\\u001b[2m:\u001b[0m\u001b]8;id=545356;file:///Users/mmtf/p/research/contempro/owl2vec_star/mmtf-eval/embedding_evaluation.py#85\u001b\\\u001b[2m85\u001b[0m\u001b]8;;\u001b\\\n",
       "\u001b[2;36m           \u001b[0m         go-full/biobert/ontology.embeddings.npy                              \u001b[2m                          \u001b[0m\n"
      ]
     },
     "metadata": {},
     "output_type": "display_data"
    },
    {
     "data": {
      "text/html": [
       "<pre style=\"white-space:pre;overflow-x:auto;line-height:normal;font-family:Menlo,'DejaVu Sans Mono',consolas,'Courier New',monospace\"><span style=\"color: #7fbfbf; text-decoration-color: #7fbfbf\">           </span><span style=\"color: #000080; text-decoration-color: #000080\">INFO    </span> Loaded <span style=\"color: #008080; text-decoration-color: #008080; font-weight: bold\">54304</span> BioBERT embeddings                                      <a href=\"file:///Users/mmtf/p/research/contempro/owl2vec_star/mmtf-eval/embedding_evaluation.py\" target=\"_blank\"><span style=\"color: #7f7f7f; text-decoration-color: #7f7f7f\">embedding_evaluation.py</span></a><span style=\"color: #7f7f7f; text-decoration-color: #7f7f7f\">:</span><a href=\"file:///Users/mmtf/p/research/contempro/owl2vec_star/mmtf-eval/embedding_evaluation.py#87\" target=\"_blank\"><span style=\"color: #7f7f7f; text-decoration-color: #7f7f7f\">87</span></a>\n",
       "</pre>\n"
      ],
      "text/plain": [
       "\u001b[2;36m          \u001b[0m\u001b[2;36m \u001b[0m\u001b[34mINFO    \u001b[0m Loaded \u001b[1;36m54304\u001b[0m BioBERT embeddings                                      \u001b]8;id=537877;file:///Users/mmtf/p/research/contempro/owl2vec_star/mmtf-eval/embedding_evaluation.py\u001b\\\u001b[2membedding_evaluation.py\u001b[0m\u001b]8;;\u001b\\\u001b[2m:\u001b[0m\u001b]8;id=974438;file:///Users/mmtf/p/research/contempro/owl2vec_star/mmtf-eval/embedding_evaluation.py#87\u001b\\\u001b[2m87\u001b[0m\u001b]8;;\u001b\\\n"
      ]
     },
     "metadata": {},
     "output_type": "display_data"
    }
   ],
   "source": [
    "\n",
    "from embedding_evaluation import EmbeddingDataset\n",
    "\n",
    "dataset = EmbeddingDataset(base_path)\n",
    "\n",
    "dataset.load_owl2vec(base_path / \"owl2vec\" / \"ontology.embeddings.npy\")\n",
    "dataset.load_anc2vec(base_path / \"anc2vec\" / \"ontology.embeddings.npy\")\n",
    "dataset.load_biobert(base_path / \"biobert\" / \"ontology.embeddings.npy\")\n",
    "\n"
   ]
  },
  {
   "cell_type": "code",
   "execution_count": 4,
   "metadata": {},
   "outputs": [
    {
     "name": "stdout",
     "output_type": "stream",
     "text": [
      "Missing in OWL2Vec: 0\n",
      "Missing in Anc2Vec: 6230\n",
      "Missing in BioBERT: 2131\n"
     ]
    }
   ],
   "source": [
    "missing = {\n",
    "  'owl2vec': set(),\n",
    "  'anc2vec': set(),\n",
    "  'biobert': set()\n",
    "}\n",
    "for go in all_gos:\n",
    "  id = go.split('/')[-1]\n",
    "\n",
    "  if id not in dataset.embeddings['owl2vec']:\n",
    "    missing['owl2vec'].add(go)\n",
    "  if id not in dataset.embeddings['anc2vec']:\n",
    "    missing['anc2vec'].add(go)\n",
    "  if id not in dataset.embeddings['biobert']:\n",
    "    missing['biobert'].add(go)\n",
    "\n",
    "print(f\"Missing in OWL2Vec: {len(missing['owl2vec'])}\")\n",
    "print(f\"Missing in Anc2Vec: {len(missing['anc2vec'])}\")\n",
    "print(f\"Missing in BioBERT: {len(missing['biobert'])}\")\n",
    "\n"
   ]
  },
  {
   "cell_type": "code",
   "execution_count": 8,
   "metadata": {},
   "outputs": [
    {
     "data": {
      "text/plain": [
       "True"
      ]
     },
     "execution_count": 8,
     "metadata": {},
     "output_type": "execute_result"
    }
   ],
   "source": [
    "all(np.all(item == 0) for item in dataset.embeddings['owl2vec'].values())\n"
   ]
  }
 ],
 "metadata": {
  "kernelspec": {
   "display_name": "default",
   "language": "python",
   "name": "python3"
  },
  "language_info": {
   "codemirror_mode": {
    "name": "ipython",
    "version": 3
   },
   "file_extension": ".py",
   "mimetype": "text/x-python",
   "name": "python",
   "nbconvert_exporter": "python",
   "pygments_lexer": "ipython3",
   "version": "3.9.20"
  }
 },
 "nbformat": 4,
 "nbformat_minor": 2
}
