{
 "cells": [
  {
   "cell_type": "markdown",
   "metadata": {},
   "source": [
    "# Setup\n"
   ]
  },
  {
   "cell_type": "code",
   "execution_count": 2,
   "metadata": {},
   "outputs": [],
   "source": [
    "import numpy as np\n",
    "import pandas as pd\n",
    "import gensim\n",
    "from pathlib import Path\n",
    "%load_ext autoreload\n",
    "%autoreload 2\n",
    "\n",
    "base_path = Path(\"go-basic\")"
   ]
  },
  {
   "cell_type": "code",
   "execution_count": 3,
   "metadata": {},
   "outputs": [],
   "source": [
    "all_lines = []\n",
    "for file in base_path.glob(\"split/*.csv\"):\n",
    "  with open(file) as f:\n",
    "    for line in f:\n",
    "      all_lines.append(line.strip())\n",
    "\n",
    "all_gos = set([line.split(',')[0] for line in all_lines]) | set([line.split(',')[1] for line in all_lines])"
   ]
  },
  {
   "cell_type": "code",
   "execution_count": 4,
   "metadata": {},
   "outputs": [
    {
     "data": {
      "text/html": [
       "<pre style=\"white-space:pre;overflow-x:auto;line-height:normal;font-family:Menlo,'DejaVu Sans Mono',consolas,'Courier New',monospace\"><span style=\"color: #7fbfbf; text-decoration-color: #7fbfbf\">[16:42:06] </span><span style=\"color: #000080; text-decoration-color: #000080\">INFO    </span> Loading OWL2Vec embeddings from                                     <a href=\"file:///Users/mmtf/p/research/contempro/owl2vec_star/mmtf-eval/embedding_evaluation.py\" target=\"_blank\"><span style=\"color: #7f7f7f; text-decoration-color: #7f7f7f\">embedding_evaluation.py</span></a><span style=\"color: #7f7f7f; text-decoration-color: #7f7f7f\">:</span><a href=\"file:///Users/mmtf/p/research/contempro/owl2vec_star/mmtf-eval/embedding_evaluation.py#111\" target=\"_blank\"><span style=\"color: #7f7f7f; text-decoration-color: #7f7f7f\">111</span></a>\n",
       "<span style=\"color: #7fbfbf; text-decoration-color: #7fbfbf\">           </span>         go-basic/owl2vec/ontology.embeddings.npy                            <span style=\"color: #7f7f7f; text-decoration-color: #7f7f7f\">                           </span>\n",
       "</pre>\n"
      ],
      "text/plain": [
       "\u001b[2;36m[16:42:06]\u001b[0m\u001b[2;36m \u001b[0m\u001b[34mINFO    \u001b[0m Loading OWL2Vec embeddings from                                     \u001b]8;id=429131;file:///Users/mmtf/p/research/contempro/owl2vec_star/mmtf-eval/embedding_evaluation.py\u001b\\\u001b[2membedding_evaluation.py\u001b[0m\u001b]8;;\u001b\\\u001b[2m:\u001b[0m\u001b]8;id=253306;file:///Users/mmtf/p/research/contempro/owl2vec_star/mmtf-eval/embedding_evaluation.py#111\u001b\\\u001b[2m111\u001b[0m\u001b]8;;\u001b\\\n",
       "\u001b[2;36m           \u001b[0m         go-basic/owl2vec/ontology.embeddings.npy                            \u001b[2m                           \u001b[0m\n"
      ]
     },
     "metadata": {},
     "output_type": "display_data"
    },
    {
     "data": {
      "text/html": [
       "<pre style=\"white-space:pre;overflow-x:auto;line-height:normal;font-family:Menlo,'DejaVu Sans Mono',consolas,'Courier New',monospace\"><span style=\"color: #7fbfbf; text-decoration-color: #7fbfbf\">           </span><span style=\"color: #000080; text-decoration-color: #000080\">INFO    </span> Loaded <span style=\"color: #008080; text-decoration-color: #008080; font-weight: bold\">51550</span> OWL2Vec embeddings                                     <a href=\"file:///Users/mmtf/p/research/contempro/owl2vec_star/mmtf-eval/embedding_evaluation.py\" target=\"_blank\"><span style=\"color: #7f7f7f; text-decoration-color: #7f7f7f\">embedding_evaluation.py</span></a><span style=\"color: #7f7f7f; text-decoration-color: #7f7f7f\">:</span><a href=\"file:///Users/mmtf/p/research/contempro/owl2vec_star/mmtf-eval/embedding_evaluation.py#113\" target=\"_blank\"><span style=\"color: #7f7f7f; text-decoration-color: #7f7f7f\">113</span></a>\n",
       "</pre>\n"
      ],
      "text/plain": [
       "\u001b[2;36m          \u001b[0m\u001b[2;36m \u001b[0m\u001b[34mINFO    \u001b[0m Loaded \u001b[1;36m51550\u001b[0m OWL2Vec embeddings                                     \u001b]8;id=720787;file:///Users/mmtf/p/research/contempro/owl2vec_star/mmtf-eval/embedding_evaluation.py\u001b\\\u001b[2membedding_evaluation.py\u001b[0m\u001b]8;;\u001b\\\u001b[2m:\u001b[0m\u001b]8;id=307992;file:///Users/mmtf/p/research/contempro/owl2vec_star/mmtf-eval/embedding_evaluation.py#113\u001b\\\u001b[2m113\u001b[0m\u001b]8;;\u001b\\\n"
      ]
     },
     "metadata": {},
     "output_type": "display_data"
    },
    {
     "data": {
      "text/html": [
       "<pre style=\"white-space:pre;overflow-x:auto;line-height:normal;font-family:Menlo,'DejaVu Sans Mono',consolas,'Courier New',monospace\"><span style=\"color: #7fbfbf; text-decoration-color: #7fbfbf\">           </span><span style=\"color: #000080; text-decoration-color: #000080\">INFO    </span> Loading Anc2Vec embeddings from                                     <a href=\"file:///Users/mmtf/p/research/contempro/owl2vec_star/mmtf-eval/embedding_evaluation.py\" target=\"_blank\"><span style=\"color: #7f7f7f; text-decoration-color: #7f7f7f\">embedding_evaluation.py</span></a><span style=\"color: #7f7f7f; text-decoration-color: #7f7f7f\">:</span><a href=\"file:///Users/mmtf/p/research/contempro/owl2vec_star/mmtf-eval/embedding_evaluation.py#100\" target=\"_blank\"><span style=\"color: #7f7f7f; text-decoration-color: #7f7f7f\">100</span></a>\n",
       "<span style=\"color: #7fbfbf; text-decoration-color: #7fbfbf\">           </span>         go-basic/anc2vec/ontology.embeddings.npy                            <span style=\"color: #7f7f7f; text-decoration-color: #7f7f7f\">                           </span>\n",
       "</pre>\n"
      ],
      "text/plain": [
       "\u001b[2;36m          \u001b[0m\u001b[2;36m \u001b[0m\u001b[34mINFO    \u001b[0m Loading Anc2Vec embeddings from                                     \u001b]8;id=119629;file:///Users/mmtf/p/research/contempro/owl2vec_star/mmtf-eval/embedding_evaluation.py\u001b\\\u001b[2membedding_evaluation.py\u001b[0m\u001b]8;;\u001b\\\u001b[2m:\u001b[0m\u001b]8;id=146706;file:///Users/mmtf/p/research/contempro/owl2vec_star/mmtf-eval/embedding_evaluation.py#100\u001b\\\u001b[2m100\u001b[0m\u001b]8;;\u001b\\\n",
       "\u001b[2;36m           \u001b[0m         go-basic/anc2vec/ontology.embeddings.npy                            \u001b[2m                           \u001b[0m\n"
      ]
     },
     "metadata": {},
     "output_type": "display_data"
    },
    {
     "data": {
      "text/html": [
       "<pre style=\"white-space:pre;overflow-x:auto;line-height:normal;font-family:Menlo,'DejaVu Sans Mono',consolas,'Courier New',monospace\"><span style=\"color: #7fbfbf; text-decoration-color: #7fbfbf\">           </span><span style=\"color: #000080; text-decoration-color: #000080\">INFO    </span> Loaded <span style=\"color: #008080; text-decoration-color: #008080; font-weight: bold\">40939</span> Anc2Vec embeddings                                     <a href=\"file:///Users/mmtf/p/research/contempro/owl2vec_star/mmtf-eval/embedding_evaluation.py\" target=\"_blank\"><span style=\"color: #7f7f7f; text-decoration-color: #7f7f7f\">embedding_evaluation.py</span></a><span style=\"color: #7f7f7f; text-decoration-color: #7f7f7f\">:</span><a href=\"file:///Users/mmtf/p/research/contempro/owl2vec_star/mmtf-eval/embedding_evaluation.py#107\" target=\"_blank\"><span style=\"color: #7f7f7f; text-decoration-color: #7f7f7f\">107</span></a>\n",
       "</pre>\n"
      ],
      "text/plain": [
       "\u001b[2;36m          \u001b[0m\u001b[2;36m \u001b[0m\u001b[34mINFO    \u001b[0m Loaded \u001b[1;36m40939\u001b[0m Anc2Vec embeddings                                     \u001b]8;id=482832;file:///Users/mmtf/p/research/contempro/owl2vec_star/mmtf-eval/embedding_evaluation.py\u001b\\\u001b[2membedding_evaluation.py\u001b[0m\u001b]8;;\u001b\\\u001b[2m:\u001b[0m\u001b]8;id=397279;file:///Users/mmtf/p/research/contempro/owl2vec_star/mmtf-eval/embedding_evaluation.py#107\u001b\\\u001b[2m107\u001b[0m\u001b]8;;\u001b\\\n"
      ]
     },
     "metadata": {},
     "output_type": "display_data"
    },
    {
     "data": {
      "text/html": [
       "<pre style=\"white-space:pre;overflow-x:auto;line-height:normal;font-family:Menlo,'DejaVu Sans Mono',consolas,'Courier New',monospace\"><span style=\"color: #7fbfbf; text-decoration-color: #7fbfbf\">           </span><span style=\"color: #000080; text-decoration-color: #000080\">INFO    </span> Loading BioBERT embeddings from                                     <a href=\"file:///Users/mmtf/p/research/contempro/owl2vec_star/mmtf-eval/embedding_evaluation.py\" target=\"_blank\"><span style=\"color: #7f7f7f; text-decoration-color: #7f7f7f\">embedding_evaluation.py</span></a><span style=\"color: #7f7f7f; text-decoration-color: #7f7f7f\">:</span><a href=\"file:///Users/mmtf/p/research/contempro/owl2vec_star/mmtf-eval/embedding_evaluation.py#117\" target=\"_blank\"><span style=\"color: #7f7f7f; text-decoration-color: #7f7f7f\">117</span></a>\n",
       "<span style=\"color: #7fbfbf; text-decoration-color: #7fbfbf\">           </span>         go-basic/biobert/ontology.embeddings.npy                            <span style=\"color: #7f7f7f; text-decoration-color: #7f7f7f\">                           </span>\n",
       "</pre>\n"
      ],
      "text/plain": [
       "\u001b[2;36m          \u001b[0m\u001b[2;36m \u001b[0m\u001b[34mINFO    \u001b[0m Loading BioBERT embeddings from                                     \u001b]8;id=254187;file:///Users/mmtf/p/research/contempro/owl2vec_star/mmtf-eval/embedding_evaluation.py\u001b\\\u001b[2membedding_evaluation.py\u001b[0m\u001b]8;;\u001b\\\u001b[2m:\u001b[0m\u001b]8;id=328726;file:///Users/mmtf/p/research/contempro/owl2vec_star/mmtf-eval/embedding_evaluation.py#117\u001b\\\u001b[2m117\u001b[0m\u001b]8;;\u001b\\\n",
       "\u001b[2;36m           \u001b[0m         go-basic/biobert/ontology.embeddings.npy                            \u001b[2m                           \u001b[0m\n"
      ]
     },
     "metadata": {},
     "output_type": "display_data"
    },
    {
     "data": {
      "text/html": [
       "<pre style=\"white-space:pre;overflow-x:auto;line-height:normal;font-family:Menlo,'DejaVu Sans Mono',consolas,'Courier New',monospace\"><span style=\"color: #7fbfbf; text-decoration-color: #7fbfbf\">[16:42:07] </span><span style=\"color: #000080; text-decoration-color: #000080\">INFO    </span> Loaded <span style=\"color: #008080; text-decoration-color: #008080; font-weight: bold\">54217</span> BioBERT embeddings                                     <a href=\"file:///Users/mmtf/p/research/contempro/owl2vec_star/mmtf-eval/embedding_evaluation.py\" target=\"_blank\"><span style=\"color: #7f7f7f; text-decoration-color: #7f7f7f\">embedding_evaluation.py</span></a><span style=\"color: #7f7f7f; text-decoration-color: #7f7f7f\">:</span><a href=\"file:///Users/mmtf/p/research/contempro/owl2vec_star/mmtf-eval/embedding_evaluation.py#119\" target=\"_blank\"><span style=\"color: #7f7f7f; text-decoration-color: #7f7f7f\">119</span></a>\n",
       "</pre>\n"
      ],
      "text/plain": [
       "\u001b[2;36m[16:42:07]\u001b[0m\u001b[2;36m \u001b[0m\u001b[34mINFO    \u001b[0m Loaded \u001b[1;36m54217\u001b[0m BioBERT embeddings                                     \u001b]8;id=325791;file:///Users/mmtf/p/research/contempro/owl2vec_star/mmtf-eval/embedding_evaluation.py\u001b\\\u001b[2membedding_evaluation.py\u001b[0m\u001b]8;;\u001b\\\u001b[2m:\u001b[0m\u001b]8;id=835420;file:///Users/mmtf/p/research/contempro/owl2vec_star/mmtf-eval/embedding_evaluation.py#119\u001b\\\u001b[2m119\u001b[0m\u001b]8;;\u001b\\\n"
      ]
     },
     "metadata": {},
     "output_type": "display_data"
    },
    {
     "data": {
      "text/html": [
       "<pre style=\"white-space:pre;overflow-x:auto;line-height:normal;font-family:Menlo,'DejaVu Sans Mono',consolas,'Courier New',monospace\"><span style=\"color: #7fbfbf; text-decoration-color: #7fbfbf\">           </span><span style=\"color: #000080; text-decoration-color: #000080\">INFO    </span> Loading GT2Vec embeddings from                                      <a href=\"file:///Users/mmtf/p/research/contempro/owl2vec_star/mmtf-eval/embedding_evaluation.py\" target=\"_blank\"><span style=\"color: #7f7f7f; text-decoration-color: #7f7f7f\">embedding_evaluation.py</span></a><span style=\"color: #7f7f7f; text-decoration-color: #7f7f7f\">:</span><a href=\"file:///Users/mmtf/p/research/contempro/owl2vec_star/mmtf-eval/embedding_evaluation.py#123\" target=\"_blank\"><span style=\"color: #7f7f7f; text-decoration-color: #7f7f7f\">123</span></a>\n",
       "<span style=\"color: #7fbfbf; text-decoration-color: #7fbfbf\">           </span>         go-basic/gt2vec/ontology.embeddings.npy                             <span style=\"color: #7f7f7f; text-decoration-color: #7f7f7f\">                           </span>\n",
       "</pre>\n"
      ],
      "text/plain": [
       "\u001b[2;36m          \u001b[0m\u001b[2;36m \u001b[0m\u001b[34mINFO    \u001b[0m Loading GT2Vec embeddings from                                      \u001b]8;id=747891;file:///Users/mmtf/p/research/contempro/owl2vec_star/mmtf-eval/embedding_evaluation.py\u001b\\\u001b[2membedding_evaluation.py\u001b[0m\u001b]8;;\u001b\\\u001b[2m:\u001b[0m\u001b]8;id=270210;file:///Users/mmtf/p/research/contempro/owl2vec_star/mmtf-eval/embedding_evaluation.py#123\u001b\\\u001b[2m123\u001b[0m\u001b]8;;\u001b\\\n",
       "\u001b[2;36m           \u001b[0m         go-basic/gt2vec/ontology.embeddings.npy                             \u001b[2m                           \u001b[0m\n"
      ]
     },
     "metadata": {},
     "output_type": "display_data"
    },
    {
     "data": {
      "text/html": [
       "<pre style=\"white-space:pre;overflow-x:auto;line-height:normal;font-family:Menlo,'DejaVu Sans Mono',consolas,'Courier New',monospace\"><span style=\"color: #7fbfbf; text-decoration-color: #7fbfbf\">           </span><span style=\"color: #000080; text-decoration-color: #000080\">INFO    </span> Loaded <span style=\"color: #008080; text-decoration-color: #008080; font-weight: bold\">44733</span> GT2Vec embeddings                                      <a href=\"file:///Users/mmtf/p/research/contempro/owl2vec_star/mmtf-eval/embedding_evaluation.py\" target=\"_blank\"><span style=\"color: #7f7f7f; text-decoration-color: #7f7f7f\">embedding_evaluation.py</span></a><span style=\"color: #7f7f7f; text-decoration-color: #7f7f7f\">:</span><a href=\"file:///Users/mmtf/p/research/contempro/owl2vec_star/mmtf-eval/embedding_evaluation.py#125\" target=\"_blank\"><span style=\"color: #7f7f7f; text-decoration-color: #7f7f7f\">125</span></a>\n",
       "</pre>\n"
      ],
      "text/plain": [
       "\u001b[2;36m          \u001b[0m\u001b[2;36m \u001b[0m\u001b[34mINFO    \u001b[0m Loaded \u001b[1;36m44733\u001b[0m GT2Vec embeddings                                      \u001b]8;id=913388;file:///Users/mmtf/p/research/contempro/owl2vec_star/mmtf-eval/embedding_evaluation.py\u001b\\\u001b[2membedding_evaluation.py\u001b[0m\u001b]8;;\u001b\\\u001b[2m:\u001b[0m\u001b]8;id=791291;file:///Users/mmtf/p/research/contempro/owl2vec_star/mmtf-eval/embedding_evaluation.py#125\u001b\\\u001b[2m125\u001b[0m\u001b]8;;\u001b\\\n"
      ]
     },
     "metadata": {},
     "output_type": "display_data"
    }
   ],
   "source": [
    "\n",
    "from embedding_evaluation import EmbeddingDataset\n",
    "\n",
    "dataset = EmbeddingDataset(base_path)\n",
    "\n",
    "dataset.load_owl2vec(base_path / \"owl2vec\" / \"ontology.embeddings.npy\")\n",
    "dataset.load_anc2vec(base_path / \"anc2vec\" / \"ontology.embeddings.npy\")\n",
    "dataset.load_biobert(base_path / \"biobert\" / \"ontology.embeddings.npy\")\n",
    "dataset.load_gt2vec(base_path / \"gt2vec\" / \"ontology.embeddings.npy\")\n",
    "\n"
   ]
  },
  {
   "cell_type": "markdown",
   "metadata": {},
   "source": [
    "# Validate embeddings"
   ]
  },
  {
   "cell_type": "code",
   "execution_count": 10,
   "metadata": {},
   "outputs": [
    {
     "name": "stdout",
     "output_type": "stream",
     "text": [
      "Total GOs: 47050 in go-basic\n",
      "Missing in OWL2Vec: 2112 / 47050 (4.49%)\n",
      "Missing in Anc2Vec: 6111 / 47050 (12.99%)\n",
      "Missing in BioBERT: 2074 / 47050 (4.41%)\n",
      "Missing in GT2Vec: 4495 / 47050 (9.55%)\n"
     ]
    }
   ],
   "source": [
    "missing = {\n",
    "  'owl2vec': set(),\n",
    "  'anc2vec': set(),\n",
    "  'biobert': set(),\n",
    "  'gt2vec': set()\n",
    "}\n",
    "\n",
    "def is_missing(id, emb):\n",
    "  return id not in emb or np.all(emb[id] == 0)\n",
    "\n",
    "for go in all_gos:\n",
    "  id = go.split('/')[-1]\n",
    "\n",
    "  if is_missing(id, dataset.embeddings['owl2vec']):\n",
    "    missing['owl2vec'].add(go)\n",
    "  if is_missing(id, dataset.embeddings['anc2vec']):\n",
    "    missing['anc2vec'].add(go)\n",
    "  if is_missing(id, dataset.embeddings['biobert']):\n",
    "    missing['biobert'].add(go)\n",
    "  if is_missing(id, dataset.embeddings['gt2vec']):\n",
    "    missing['gt2vec'].add(go)\n",
    "\n",
    "print(f\"Total GOs: {len(all_gos)} in {base_path}\")\n",
    "print(f\"Missing in OWL2Vec: {len(missing['owl2vec'])} / {len(all_gos)} ({len(missing['owl2vec']) / len(all_gos):.2%})\")\n",
    "print(f\"Missing in Anc2Vec: {len(missing['anc2vec'])} / {len(all_gos)} ({len(missing['anc2vec']) / len(all_gos):.2%})\")\n",
    "print(f\"Missing in BioBERT: {len(missing['biobert'])} / {len(all_gos)} ({len(missing['biobert']) / len(all_gos):.2%})\")\n",
    "print(f\"Missing in GT2Vec: {len(missing['gt2vec'])} / {len(all_gos)} ({len(missing['gt2vec']) / len(all_gos):.2%})\")\n"
   ]
  }
 ],
 "metadata": {
  "kernelspec": {
   "display_name": "default",
   "language": "python",
   "name": "python3"
  },
  "language_info": {
   "codemirror_mode": {
    "name": "ipython",
    "version": 3
   },
   "file_extension": ".py",
   "mimetype": "text/x-python",
   "name": "python",
   "nbconvert_exporter": "python",
   "pygments_lexer": "ipython3",
   "version": "3.9.20"
  }
 },
 "nbformat": 4,
 "nbformat_minor": 2
}
