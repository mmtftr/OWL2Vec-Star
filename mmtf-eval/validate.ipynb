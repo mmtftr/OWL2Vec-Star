{
 "cells": [
  {
   "cell_type": "code",
   "execution_count": 20,
   "metadata": {},
   "outputs": [
    {
     "name": "stdout",
     "output_type": "stream",
     "text": [
      "The autoreload extension is already loaded. To reload it, use:\n",
      "  %reload_ext autoreload\n"
     ]
    }
   ],
   "source": [
    "# validate embedding files against our datasets\n",
    "\n",
    "import numpy as np\n",
    "import pandas as pd\n",
    "import gensim\n",
    "from pathlib import Path\n",
    "%load_ext autoreload\n",
    "%autoreload 2\n",
    "\n",
    "base_path = Path(\"go-full\")"
   ]
  },
  {
   "cell_type": "code",
   "execution_count": 21,
   "metadata": {},
   "outputs": [],
   "source": [
    "all_lines = []\n",
    "for file in base_path.glob(\"split/*.csv\"):\n",
    "  with open(file) as f:\n",
    "    for line in f:\n",
    "      all_lines.append(line.strip())\n",
    "\n",
    "all_gos = set([line.split(',')[0] for line in all_lines]) | set([line.split(',')[1] for line in all_lines])"
   ]
  },
  {
   "cell_type": "code",
   "execution_count": 31,
   "metadata": {},
   "outputs": [
    {
     "name": "stderr",
     "output_type": "stream",
     "text": [
      "2024-11-13 23:14:01,374 - embedding_evaluation - INFO - Loading OWL2Vec embeddings from go-full/owl2vec/ontology.embeddings.npy\n",
      "2024-11-13 23:14:01,465 - embedding_evaluation - INFO - Loaded 51550 OWL2Vec embeddings\n",
      "2024-11-13 23:14:01,466 - embedding_evaluation - INFO - Loading Anc2Vec embeddings from go-full/anc2vec/ontology.embeddings.npy\n",
      "2024-11-13 23:14:01,545 - embedding_evaluation - INFO - Loaded 40939 Anc2Vec embeddings\n",
      "2024-11-13 23:14:01,545 - embedding_evaluation - INFO - Loading BioBERT embeddings from go-full/biobert/ontology.embeddings.npy\n",
      "2024-11-13 23:14:01,687 - embedding_evaluation - INFO - Loaded 54304 BioBERT embeddings\n"
     ]
    }
   ],
   "source": [
    "\n",
    "from embedding_evaluation import EmbeddingDataset\n",
    "\n",
    "dataset = EmbeddingDataset(base_path)\n",
    "\n",
    "dataset.load_owl2vec(base_path / \"owl2vec\" / \"ontology.embeddings.npy\")\n",
    "dataset.load_anc2vec(base_path / \"anc2vec\" / \"ontology.embeddings.npy\")\n",
    "dataset.load_biobert(base_path / \"biobert\" / \"ontology.embeddings.npy\")\n",
    "\n"
   ]
  },
  {
   "cell_type": "code",
   "execution_count": 32,
   "metadata": {},
   "outputs": [
    {
     "name": "stdout",
     "output_type": "stream",
     "text": [
      "Missing in OWL2Vec: 0\n",
      "Missing in Anc2Vec: 6230\n",
      "Missing in BioBERT: 2131\n"
     ]
    }
   ],
   "source": [
    "missing = {\n",
    "  'owl2vec': set(),\n",
    "  'anc2vec': set(),\n",
    "  'biobert': set()\n",
    "}\n",
    "for go in all_gos:\n",
    "  id = go.split('/')[-1]\n",
    "\n",
    "  if id not in dataset.embeddings['owl2vec']:\n",
    "    missing['owl2vec'].add(go)\n",
    "  if id not in dataset.embeddings['anc2vec']:\n",
    "    missing['anc2vec'].add(go)\n",
    "  if id not in dataset.embeddings['biobert']:\n",
    "    missing['biobert'].add(go)\n",
    "\n",
    "print(f\"Missing in OWL2Vec: {len(missing['owl2vec'])}\")\n",
    "print(f\"Missing in Anc2Vec: {len(missing['anc2vec'])}\")\n",
    "print(f\"Missing in BioBERT: {len(missing['biobert'])}\")\n",
    "\n"
   ]
  },
  {
   "cell_type": "code",
   "execution_count": null,
   "metadata": {},
   "outputs": [],
   "source": []
  }
 ],
 "metadata": {
  "kernelspec": {
   "display_name": "default",
   "language": "python",
   "name": "python3"
  },
  "language_info": {
   "codemirror_mode": {
    "name": "ipython",
    "version": 3
   },
   "file_extension": ".py",
   "mimetype": "text/x-python",
   "name": "python",
   "nbconvert_exporter": "python",
   "pygments_lexer": "ipython3",
   "version": "3.9.20"
  }
 },
 "nbformat": 4,
 "nbformat_minor": 2
}
