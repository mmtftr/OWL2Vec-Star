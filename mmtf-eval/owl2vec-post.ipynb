{
 "cells": [
  {
   "cell_type": "markdown",
   "metadata": {},
   "source": [
    "# Setup"
   ]
  },
  {
   "cell_type": "code",
   "execution_count": 4,
   "metadata": {},
   "outputs": [],
   "source": [
    "from pathlib import Path\n",
    "import numpy as np\n",
    "import gensim\n",
    "\n",
    "base_path = Path(\"go-full\")"
   ]
  },
  {
   "cell_type": "code",
   "execution_count": 5,
   "metadata": {},
   "outputs": [
    {
     "data": {
      "text/html": [
       "<pre style=\"white-space:pre;overflow-x:auto;line-height:normal;font-family:Menlo,'DejaVu Sans Mono',consolas,'Courier New',monospace\"><span style=\"color: #7fbfbf; text-decoration-color: #7fbfbf\">[11/17/24 22:39:43] </span><span style=\"color: #000080; text-decoration-color: #000080\">INFO    </span> loading KeyedVectors object from go-full/owl2vec/ontology.embeddings      <a href=\"file:///Users/mmtf/miniforge3/envs/owl2vec/lib/python3.8/site-packages/gensim/utils.py\" target=\"_blank\"><span style=\"color: #7f7f7f; text-decoration-color: #7f7f7f\">utils.py</span></a><span style=\"color: #7f7f7f; text-decoration-color: #7f7f7f\">:</span><a href=\"file:///Users/mmtf/miniforge3/envs/owl2vec/lib/python3.8/site-packages/gensim/utils.py#481\" target=\"_blank\"><span style=\"color: #7f7f7f; text-decoration-color: #7f7f7f\">481</span></a>\n",
       "</pre>\n"
      ],
      "text/plain": [
       "\u001b[2;36m[11/17/24 22:39:43]\u001b[0m\u001b[2;36m \u001b[0m\u001b[34mINFO    \u001b[0m loading KeyedVectors object from go-full/owl2vec/ontology.embeddings      \u001b]8;id=405766;file:///Users/mmtf/miniforge3/envs/owl2vec/lib/python3.8/site-packages/gensim/utils.py\u001b\\\u001b[2mutils.py\u001b[0m\u001b]8;;\u001b\\\u001b[2m:\u001b[0m\u001b]8;id=460514;file:///Users/mmtf/miniforge3/envs/owl2vec/lib/python3.8/site-packages/gensim/utils.py#481\u001b\\\u001b[2m481\u001b[0m\u001b]8;;\u001b\\\n"
      ]
     },
     "metadata": {},
     "output_type": "display_data"
    },
    {
     "data": {
      "text/html": [
       "<pre style=\"white-space:pre;overflow-x:auto;line-height:normal;font-family:Menlo,'DejaVu Sans Mono',consolas,'Courier New',monospace\"><span style=\"color: #7fbfbf; text-decoration-color: #7fbfbf\">                    </span><span style=\"color: #000080; text-decoration-color: #000080\">INFO    </span> loading wv recursively from go-full/owl2vec/ontology.embeddings.wv.* with <a href=\"file:///Users/mmtf/miniforge3/envs/owl2vec/lib/python3.8/site-packages/gensim/utils.py\" target=\"_blank\"><span style=\"color: #7f7f7f; text-decoration-color: #7f7f7f\">utils.py</span></a><span style=\"color: #7f7f7f; text-decoration-color: #7f7f7f\">:</span><a href=\"file:///Users/mmtf/miniforge3/envs/owl2vec/lib/python3.8/site-packages/gensim/utils.py#515\" target=\"_blank\"><span style=\"color: #7f7f7f; text-decoration-color: #7f7f7f\">515</span></a>\n",
       "<span style=\"color: #7fbfbf; text-decoration-color: #7fbfbf\">                    </span>         <span style=\"color: #808000; text-decoration-color: #808000\">mmap</span>=<span style=\"color: #800080; text-decoration-color: #800080\">r</span>                                                                    <span style=\"color: #7f7f7f; text-decoration-color: #7f7f7f\">            </span>\n",
       "</pre>\n"
      ],
      "text/plain": [
       "\u001b[2;36m                   \u001b[0m\u001b[2;36m \u001b[0m\u001b[34mINFO    \u001b[0m loading wv recursively from go-full/owl2vec/ontology.embeddings.wv.* with \u001b]8;id=457919;file:///Users/mmtf/miniforge3/envs/owl2vec/lib/python3.8/site-packages/gensim/utils.py\u001b\\\u001b[2mutils.py\u001b[0m\u001b]8;;\u001b\\\u001b[2m:\u001b[0m\u001b]8;id=876201;file:///Users/mmtf/miniforge3/envs/owl2vec/lib/python3.8/site-packages/gensim/utils.py#515\u001b\\\u001b[2m515\u001b[0m\u001b]8;;\u001b\\\n",
       "\u001b[2;36m                    \u001b[0m         \u001b[33mmmap\u001b[0m=\u001b[35mr\u001b[0m                                                                    \u001b[2m            \u001b[0m\n"
      ]
     },
     "metadata": {},
     "output_type": "display_data"
    },
    {
     "data": {
      "text/html": [
       "<pre style=\"white-space:pre;overflow-x:auto;line-height:normal;font-family:Menlo,'DejaVu Sans Mono',consolas,'Courier New',monospace\"><span style=\"color: #7fbfbf; text-decoration-color: #7fbfbf\">                    </span><span style=\"color: #000080; text-decoration-color: #000080\">INFO    </span> loading vectors from go-full/owl2vec/ontology.embeddings.wv.vectors.npy   <a href=\"file:///Users/mmtf/miniforge3/envs/owl2vec/lib/python3.8/site-packages/gensim/utils.py\" target=\"_blank\"><span style=\"color: #7f7f7f; text-decoration-color: #7f7f7f\">utils.py</span></a><span style=\"color: #7f7f7f; text-decoration-color: #7f7f7f\">:</span><a href=\"file:///Users/mmtf/miniforge3/envs/owl2vec/lib/python3.8/site-packages/gensim/utils.py#520\" target=\"_blank\"><span style=\"color: #7f7f7f; text-decoration-color: #7f7f7f\">520</span></a>\n",
       "<span style=\"color: #7fbfbf; text-decoration-color: #7fbfbf\">                    </span>         with <span style=\"color: #808000; text-decoration-color: #808000\">mmap</span>=<span style=\"color: #800080; text-decoration-color: #800080\">r</span>                                                               <span style=\"color: #7f7f7f; text-decoration-color: #7f7f7f\">            </span>\n",
       "</pre>\n"
      ],
      "text/plain": [
       "\u001b[2;36m                   \u001b[0m\u001b[2;36m \u001b[0m\u001b[34mINFO    \u001b[0m loading vectors from go-full/owl2vec/ontology.embeddings.wv.vectors.npy   \u001b]8;id=84441;file:///Users/mmtf/miniforge3/envs/owl2vec/lib/python3.8/site-packages/gensim/utils.py\u001b\\\u001b[2mutils.py\u001b[0m\u001b]8;;\u001b\\\u001b[2m:\u001b[0m\u001b]8;id=365654;file:///Users/mmtf/miniforge3/envs/owl2vec/lib/python3.8/site-packages/gensim/utils.py#520\u001b\\\u001b[2m520\u001b[0m\u001b]8;;\u001b\\\n",
       "\u001b[2;36m                    \u001b[0m         with \u001b[33mmmap\u001b[0m=\u001b[35mr\u001b[0m                                                               \u001b[2m            \u001b[0m\n"
      ]
     },
     "metadata": {},
     "output_type": "display_data"
    },
    {
     "data": {
      "text/html": [
       "<pre style=\"white-space:pre;overflow-x:auto;line-height:normal;font-family:Menlo,'DejaVu Sans Mono',consolas,'Courier New',monospace\"><span style=\"color: #7fbfbf; text-decoration-color: #7fbfbf\">                    </span><span style=\"color: #000080; text-decoration-color: #000080\">INFO    </span> loading syn1neg from go-full/owl2vec/ontology.embeddings.syn1neg.npy with <a href=\"file:///Users/mmtf/miniforge3/envs/owl2vec/lib/python3.8/site-packages/gensim/utils.py\" target=\"_blank\"><span style=\"color: #7f7f7f; text-decoration-color: #7f7f7f\">utils.py</span></a><span style=\"color: #7f7f7f; text-decoration-color: #7f7f7f\">:</span><a href=\"file:///Users/mmtf/miniforge3/envs/owl2vec/lib/python3.8/site-packages/gensim/utils.py#520\" target=\"_blank\"><span style=\"color: #7f7f7f; text-decoration-color: #7f7f7f\">520</span></a>\n",
       "<span style=\"color: #7fbfbf; text-decoration-color: #7fbfbf\">                    </span>         <span style=\"color: #808000; text-decoration-color: #808000\">mmap</span>=<span style=\"color: #800080; text-decoration-color: #800080\">r</span>                                                                    <span style=\"color: #7f7f7f; text-decoration-color: #7f7f7f\">            </span>\n",
       "</pre>\n"
      ],
      "text/plain": [
       "\u001b[2;36m                   \u001b[0m\u001b[2;36m \u001b[0m\u001b[34mINFO    \u001b[0m loading syn1neg from go-full/owl2vec/ontology.embeddings.syn1neg.npy with \u001b]8;id=660783;file:///Users/mmtf/miniforge3/envs/owl2vec/lib/python3.8/site-packages/gensim/utils.py\u001b\\\u001b[2mutils.py\u001b[0m\u001b]8;;\u001b\\\u001b[2m:\u001b[0m\u001b]8;id=469933;file:///Users/mmtf/miniforge3/envs/owl2vec/lib/python3.8/site-packages/gensim/utils.py#520\u001b\\\u001b[2m520\u001b[0m\u001b]8;;\u001b\\\n",
       "\u001b[2;36m                    \u001b[0m         \u001b[33mmmap\u001b[0m=\u001b[35mr\u001b[0m                                                                    \u001b[2m            \u001b[0m\n"
      ]
     },
     "metadata": {},
     "output_type": "display_data"
    },
    {
     "data": {
      "text/html": [
       "<pre style=\"white-space:pre;overflow-x:auto;line-height:normal;font-family:Menlo,'DejaVu Sans Mono',consolas,'Courier New',monospace\"><span style=\"color: #7fbfbf; text-decoration-color: #7fbfbf\">                    </span><span style=\"color: #000080; text-decoration-color: #000080\">INFO    </span> setting ignored attribute cum_table to <span style=\"color: #800080; text-decoration-color: #800080; font-style: italic\">None</span>                               <a href=\"file:///Users/mmtf/miniforge3/envs/owl2vec/lib/python3.8/site-packages/gensim/utils.py\" target=\"_blank\"><span style=\"color: #7f7f7f; text-decoration-color: #7f7f7f\">utils.py</span></a><span style=\"color: #7f7f7f; text-decoration-color: #7f7f7f\">:</span><a href=\"file:///Users/mmtf/miniforge3/envs/owl2vec/lib/python3.8/site-packages/gensim/utils.py#553\" target=\"_blank\"><span style=\"color: #7f7f7f; text-decoration-color: #7f7f7f\">553</span></a>\n",
       "</pre>\n"
      ],
      "text/plain": [
       "\u001b[2;36m                   \u001b[0m\u001b[2;36m \u001b[0m\u001b[34mINFO    \u001b[0m setting ignored attribute cum_table to \u001b[3;35mNone\u001b[0m                               \u001b]8;id=131835;file:///Users/mmtf/miniforge3/envs/owl2vec/lib/python3.8/site-packages/gensim/utils.py\u001b\\\u001b[2mutils.py\u001b[0m\u001b]8;;\u001b\\\u001b[2m:\u001b[0m\u001b]8;id=227587;file:///Users/mmtf/miniforge3/envs/owl2vec/lib/python3.8/site-packages/gensim/utils.py#553\u001b\\\u001b[2m553\u001b[0m\u001b]8;;\u001b\\\n"
      ]
     },
     "metadata": {},
     "output_type": "display_data"
    },
    {
     "data": {
      "text/html": [
       "<pre style=\"white-space:pre;overflow-x:auto;line-height:normal;font-family:Menlo,'DejaVu Sans Mono',consolas,'Courier New',monospace\"><span style=\"color: #7fbfbf; text-decoration-color: #7fbfbf\">[11/17/24 22:39:46] </span><span style=\"color: #000080; text-decoration-color: #000080\">INFO    </span> Word2Vec lifecycle event <span style=\"font-weight: bold\">{</span><span style=\"color: #008000; text-decoration-color: #008000\">'fname'</span>: <span style=\"color: #008000; text-decoration-color: #008000\">'go-full/owl2vec/ontology.embeddings'</span>, <a href=\"file:///Users/mmtf/miniforge3/envs/owl2vec/lib/python3.8/site-packages/gensim/utils.py\" target=\"_blank\"><span style=\"color: #7f7f7f; text-decoration-color: #7f7f7f\">utils.py</span></a><span style=\"color: #7f7f7f; text-decoration-color: #7f7f7f\">:</span><a href=\"file:///Users/mmtf/miniforge3/envs/owl2vec/lib/python3.8/site-packages/gensim/utils.py#447\" target=\"_blank\"><span style=\"color: #7f7f7f; text-decoration-color: #7f7f7f\">447</span></a>\n",
       "<span style=\"color: #7fbfbf; text-decoration-color: #7fbfbf\">                    </span>         <span style=\"color: #008000; text-decoration-color: #008000\">'datetime'</span>: <span style=\"color: #008000; text-decoration-color: #008000\">'2024-11-17T22:39:46.603187'</span>, <span style=\"color: #008000; text-decoration-color: #008000\">'gensim'</span>: <span style=\"color: #008000; text-decoration-color: #008000\">'4.3.3'</span>, <span style=\"color: #008000; text-decoration-color: #008000\">'python'</span>:    <span style=\"color: #7f7f7f; text-decoration-color: #7f7f7f\">            </span>\n",
       "<span style=\"color: #7fbfbf; text-decoration-color: #7fbfbf\">                    </span>         <span style=\"color: #008000; text-decoration-color: #008000\">'3.8.20 | packaged by conda-forge | (default, Sep 30 2024, 17:48:42) </span>     <span style=\"color: #7f7f7f; text-decoration-color: #7f7f7f\">            </span>\n",
       "<span style=\"color: #7fbfbf; text-decoration-color: #7fbfbf\">                    </span>         <span style=\"color: #008000; text-decoration-color: #008000\">\\n[Clang 17.0.6 ]'</span>, <span style=\"color: #008000; text-decoration-color: #008000\">'platform'</span>: <span style=\"color: #008000; text-decoration-color: #008000\">'macOS-15.1-arm64-arm-64bit'</span>, <span style=\"color: #008000; text-decoration-color: #008000\">'event'</span>:    <span style=\"color: #7f7f7f; text-decoration-color: #7f7f7f\">            </span>\n",
       "<span style=\"color: #7fbfbf; text-decoration-color: #7fbfbf\">                    </span>         <span style=\"color: #008000; text-decoration-color: #008000\">'loaded'</span><span style=\"font-weight: bold\">}</span>                                                                 <span style=\"color: #7f7f7f; text-decoration-color: #7f7f7f\">            </span>\n",
       "</pre>\n"
      ],
      "text/plain": [
       "\u001b[2;36m[11/17/24 22:39:46]\u001b[0m\u001b[2;36m \u001b[0m\u001b[34mINFO    \u001b[0m Word2Vec lifecycle event \u001b[1m{\u001b[0m\u001b[32m'fname'\u001b[0m: \u001b[32m'go-full/owl2vec/ontology.embeddings'\u001b[0m, \u001b]8;id=676627;file:///Users/mmtf/miniforge3/envs/owl2vec/lib/python3.8/site-packages/gensim/utils.py\u001b\\\u001b[2mutils.py\u001b[0m\u001b]8;;\u001b\\\u001b[2m:\u001b[0m\u001b]8;id=347841;file:///Users/mmtf/miniforge3/envs/owl2vec/lib/python3.8/site-packages/gensim/utils.py#447\u001b\\\u001b[2m447\u001b[0m\u001b]8;;\u001b\\\n",
       "\u001b[2;36m                    \u001b[0m         \u001b[32m'datetime'\u001b[0m: \u001b[32m'2024-11-17T22:39:46.603187'\u001b[0m, \u001b[32m'gensim'\u001b[0m: \u001b[32m'4.3.3'\u001b[0m, \u001b[32m'python'\u001b[0m:    \u001b[2m            \u001b[0m\n",
       "\u001b[2;36m                    \u001b[0m         \u001b[32m'3.8.20 | packaged by conda-forge | \u001b[0m\u001b[32m(\u001b[0m\u001b[32mdefault, Sep 30 2024, 17:48:42\u001b[0m\u001b[32m)\u001b[0m\u001b[32m \u001b[0m     \u001b[2m            \u001b[0m\n",
       "\u001b[2;36m                    \u001b[0m         \u001b[32m\\n\u001b[0m\u001b[32m[\u001b[0m\u001b[32mClang 17.0.6 \u001b[0m\u001b[32m]\u001b[0m\u001b[32m'\u001b[0m, \u001b[32m'platform'\u001b[0m: \u001b[32m'macOS-15.1-arm64-arm-64bit'\u001b[0m, \u001b[32m'event'\u001b[0m:    \u001b[2m            \u001b[0m\n",
       "\u001b[2;36m                    \u001b[0m         \u001b[32m'loaded'\u001b[0m\u001b[1m}\u001b[0m                                                                 \u001b[2m            \u001b[0m\n"
      ]
     },
     "metadata": {},
     "output_type": "display_data"
    }
   ],
   "source": [
    "wv = gensim.models.KeyedVectors.load(str(base_path / \"owl2vec\" / \"ontology.embeddings\"), mmap=\"r\")"
   ]
  },
  {
   "cell_type": "code",
   "execution_count": 3,
   "metadata": {},
   "outputs": [
    {
     "data": {
      "text/html": [
       "<pre style=\"white-space:pre;overflow-x:auto;line-height:normal;font-family:Menlo,'DejaVu Sans Mono',consolas,'Courier New',monospace\"><span style=\"color: #7fbfbf; text-decoration-color: #7fbfbf\">[11/17/24 22:12:05] </span><span style=\"color: #000080; text-decoration-color: #000080\">INFO    </span> loading KeyedVectors object from go-basic/owl2vec/ontology.embeddings     <a href=\"file:///Users/mmtf/miniforge3/envs/owl2vec/lib/python3.8/site-packages/gensim/utils.py\" target=\"_blank\"><span style=\"color: #7f7f7f; text-decoration-color: #7f7f7f\">utils.py</span></a><span style=\"color: #7f7f7f; text-decoration-color: #7f7f7f\">:</span><a href=\"file:///Users/mmtf/miniforge3/envs/owl2vec/lib/python3.8/site-packages/gensim/utils.py#481\" target=\"_blank\"><span style=\"color: #7f7f7f; text-decoration-color: #7f7f7f\">481</span></a>\n",
       "</pre>\n"
      ],
      "text/plain": [
       "\u001b[2;36m[11/17/24 22:12:05]\u001b[0m\u001b[2;36m \u001b[0m\u001b[34mINFO    \u001b[0m loading KeyedVectors object from go-basic/owl2vec/ontology.embeddings     \u001b]8;id=801713;file:///Users/mmtf/miniforge3/envs/owl2vec/lib/python3.8/site-packages/gensim/utils.py\u001b\\\u001b[2mutils.py\u001b[0m\u001b]8;;\u001b\\\u001b[2m:\u001b[0m\u001b]8;id=792378;file:///Users/mmtf/miniforge3/envs/owl2vec/lib/python3.8/site-packages/gensim/utils.py#481\u001b\\\u001b[2m481\u001b[0m\u001b]8;;\u001b\\\n"
      ]
     },
     "metadata": {},
     "output_type": "display_data"
    },
    {
     "data": {
      "text/html": [
       "<pre style=\"white-space:pre;overflow-x:auto;line-height:normal;font-family:Menlo,'DejaVu Sans Mono',consolas,'Courier New',monospace\"><span style=\"color: #7fbfbf; text-decoration-color: #7fbfbf\">                    </span><span style=\"color: #000080; text-decoration-color: #000080\">INFO    </span> loading wv recursively from go-basic/owl2vec/ontology.embeddings.wv.*     <a href=\"file:///Users/mmtf/miniforge3/envs/owl2vec/lib/python3.8/site-packages/gensim/utils.py\" target=\"_blank\"><span style=\"color: #7f7f7f; text-decoration-color: #7f7f7f\">utils.py</span></a><span style=\"color: #7f7f7f; text-decoration-color: #7f7f7f\">:</span><a href=\"file:///Users/mmtf/miniforge3/envs/owl2vec/lib/python3.8/site-packages/gensim/utils.py#515\" target=\"_blank\"><span style=\"color: #7f7f7f; text-decoration-color: #7f7f7f\">515</span></a>\n",
       "<span style=\"color: #7fbfbf; text-decoration-color: #7fbfbf\">                    </span>         with <span style=\"color: #808000; text-decoration-color: #808000\">mmap</span>=<span style=\"color: #800080; text-decoration-color: #800080\">r</span>                                                               <span style=\"color: #7f7f7f; text-decoration-color: #7f7f7f\">            </span>\n",
       "</pre>\n"
      ],
      "text/plain": [
       "\u001b[2;36m                   \u001b[0m\u001b[2;36m \u001b[0m\u001b[34mINFO    \u001b[0m loading wv recursively from go-basic/owl2vec/ontology.embeddings.wv.*     \u001b]8;id=781941;file:///Users/mmtf/miniforge3/envs/owl2vec/lib/python3.8/site-packages/gensim/utils.py\u001b\\\u001b[2mutils.py\u001b[0m\u001b]8;;\u001b\\\u001b[2m:\u001b[0m\u001b]8;id=588560;file:///Users/mmtf/miniforge3/envs/owl2vec/lib/python3.8/site-packages/gensim/utils.py#515\u001b\\\u001b[2m515\u001b[0m\u001b]8;;\u001b\\\n",
       "\u001b[2;36m                    \u001b[0m         with \u001b[33mmmap\u001b[0m=\u001b[35mr\u001b[0m                                                               \u001b[2m            \u001b[0m\n"
      ]
     },
     "metadata": {},
     "output_type": "display_data"
    },
    {
     "data": {
      "text/html": [
       "<pre style=\"white-space:pre;overflow-x:auto;line-height:normal;font-family:Menlo,'DejaVu Sans Mono',consolas,'Courier New',monospace\"><span style=\"color: #7fbfbf; text-decoration-color: #7fbfbf\">                    </span><span style=\"color: #000080; text-decoration-color: #000080\">INFO    </span> loading vectors from go-basic/owl2vec/ontology.embeddings.wv.vectors.npy  <a href=\"file:///Users/mmtf/miniforge3/envs/owl2vec/lib/python3.8/site-packages/gensim/utils.py\" target=\"_blank\"><span style=\"color: #7f7f7f; text-decoration-color: #7f7f7f\">utils.py</span></a><span style=\"color: #7f7f7f; text-decoration-color: #7f7f7f\">:</span><a href=\"file:///Users/mmtf/miniforge3/envs/owl2vec/lib/python3.8/site-packages/gensim/utils.py#520\" target=\"_blank\"><span style=\"color: #7f7f7f; text-decoration-color: #7f7f7f\">520</span></a>\n",
       "<span style=\"color: #7fbfbf; text-decoration-color: #7fbfbf\">                    </span>         with <span style=\"color: #808000; text-decoration-color: #808000\">mmap</span>=<span style=\"color: #800080; text-decoration-color: #800080\">r</span>                                                               <span style=\"color: #7f7f7f; text-decoration-color: #7f7f7f\">            </span>\n",
       "</pre>\n"
      ],
      "text/plain": [
       "\u001b[2;36m                   \u001b[0m\u001b[2;36m \u001b[0m\u001b[34mINFO    \u001b[0m loading vectors from go-basic/owl2vec/ontology.embeddings.wv.vectors.npy  \u001b]8;id=898516;file:///Users/mmtf/miniforge3/envs/owl2vec/lib/python3.8/site-packages/gensim/utils.py\u001b\\\u001b[2mutils.py\u001b[0m\u001b]8;;\u001b\\\u001b[2m:\u001b[0m\u001b]8;id=464725;file:///Users/mmtf/miniforge3/envs/owl2vec/lib/python3.8/site-packages/gensim/utils.py#520\u001b\\\u001b[2m520\u001b[0m\u001b]8;;\u001b\\\n",
       "\u001b[2;36m                    \u001b[0m         with \u001b[33mmmap\u001b[0m=\u001b[35mr\u001b[0m                                                               \u001b[2m            \u001b[0m\n"
      ]
     },
     "metadata": {},
     "output_type": "display_data"
    },
    {
     "data": {
      "text/html": [
       "<pre style=\"white-space:pre;overflow-x:auto;line-height:normal;font-family:Menlo,'DejaVu Sans Mono',consolas,'Courier New',monospace\"><span style=\"color: #7fbfbf; text-decoration-color: #7fbfbf\">                    </span><span style=\"color: #000080; text-decoration-color: #000080\">INFO    </span> loading syn1neg from go-basic/owl2vec/ontology.embeddings.syn1neg.npy     <a href=\"file:///Users/mmtf/miniforge3/envs/owl2vec/lib/python3.8/site-packages/gensim/utils.py\" target=\"_blank\"><span style=\"color: #7f7f7f; text-decoration-color: #7f7f7f\">utils.py</span></a><span style=\"color: #7f7f7f; text-decoration-color: #7f7f7f\">:</span><a href=\"file:///Users/mmtf/miniforge3/envs/owl2vec/lib/python3.8/site-packages/gensim/utils.py#520\" target=\"_blank\"><span style=\"color: #7f7f7f; text-decoration-color: #7f7f7f\">520</span></a>\n",
       "<span style=\"color: #7fbfbf; text-decoration-color: #7fbfbf\">                    </span>         with <span style=\"color: #808000; text-decoration-color: #808000\">mmap</span>=<span style=\"color: #800080; text-decoration-color: #800080\">r</span>                                                               <span style=\"color: #7f7f7f; text-decoration-color: #7f7f7f\">            </span>\n",
       "</pre>\n"
      ],
      "text/plain": [
       "\u001b[2;36m                   \u001b[0m\u001b[2;36m \u001b[0m\u001b[34mINFO    \u001b[0m loading syn1neg from go-basic/owl2vec/ontology.embeddings.syn1neg.npy     \u001b]8;id=393618;file:///Users/mmtf/miniforge3/envs/owl2vec/lib/python3.8/site-packages/gensim/utils.py\u001b\\\u001b[2mutils.py\u001b[0m\u001b]8;;\u001b\\\u001b[2m:\u001b[0m\u001b]8;id=338687;file:///Users/mmtf/miniforge3/envs/owl2vec/lib/python3.8/site-packages/gensim/utils.py#520\u001b\\\u001b[2m520\u001b[0m\u001b]8;;\u001b\\\n",
       "\u001b[2;36m                    \u001b[0m         with \u001b[33mmmap\u001b[0m=\u001b[35mr\u001b[0m                                                               \u001b[2m            \u001b[0m\n"
      ]
     },
     "metadata": {},
     "output_type": "display_data"
    },
    {
     "data": {
      "text/html": [
       "<pre style=\"white-space:pre;overflow-x:auto;line-height:normal;font-family:Menlo,'DejaVu Sans Mono',consolas,'Courier New',monospace\"><span style=\"color: #7fbfbf; text-decoration-color: #7fbfbf\">                    </span><span style=\"color: #000080; text-decoration-color: #000080\">INFO    </span> setting ignored attribute cum_table to <span style=\"color: #800080; text-decoration-color: #800080; font-style: italic\">None</span>                               <a href=\"file:///Users/mmtf/miniforge3/envs/owl2vec/lib/python3.8/site-packages/gensim/utils.py\" target=\"_blank\"><span style=\"color: #7f7f7f; text-decoration-color: #7f7f7f\">utils.py</span></a><span style=\"color: #7f7f7f; text-decoration-color: #7f7f7f\">:</span><a href=\"file:///Users/mmtf/miniforge3/envs/owl2vec/lib/python3.8/site-packages/gensim/utils.py#553\" target=\"_blank\"><span style=\"color: #7f7f7f; text-decoration-color: #7f7f7f\">553</span></a>\n",
       "</pre>\n"
      ],
      "text/plain": [
       "\u001b[2;36m                   \u001b[0m\u001b[2;36m \u001b[0m\u001b[34mINFO    \u001b[0m setting ignored attribute cum_table to \u001b[3;35mNone\u001b[0m                               \u001b]8;id=583454;file:///Users/mmtf/miniforge3/envs/owl2vec/lib/python3.8/site-packages/gensim/utils.py\u001b\\\u001b[2mutils.py\u001b[0m\u001b]8;;\u001b\\\u001b[2m:\u001b[0m\u001b]8;id=738678;file:///Users/mmtf/miniforge3/envs/owl2vec/lib/python3.8/site-packages/gensim/utils.py#553\u001b\\\u001b[2m553\u001b[0m\u001b]8;;\u001b\\\n"
      ]
     },
     "metadata": {},
     "output_type": "display_data"
    },
    {
     "data": {
      "text/html": [
       "<pre style=\"white-space:pre;overflow-x:auto;line-height:normal;font-family:Menlo,'DejaVu Sans Mono',consolas,'Courier New',monospace\"><span style=\"color: #7fbfbf; text-decoration-color: #7fbfbf\">[11/17/24 22:12:07] </span><span style=\"color: #000080; text-decoration-color: #000080\">INFO    </span> Word2Vec lifecycle event <span style=\"font-weight: bold\">{</span><span style=\"color: #008000; text-decoration-color: #008000\">'fname'</span>:                                        <a href=\"file:///Users/mmtf/miniforge3/envs/owl2vec/lib/python3.8/site-packages/gensim/utils.py\" target=\"_blank\"><span style=\"color: #7f7f7f; text-decoration-color: #7f7f7f\">utils.py</span></a><span style=\"color: #7f7f7f; text-decoration-color: #7f7f7f\">:</span><a href=\"file:///Users/mmtf/miniforge3/envs/owl2vec/lib/python3.8/site-packages/gensim/utils.py#447\" target=\"_blank\"><span style=\"color: #7f7f7f; text-decoration-color: #7f7f7f\">447</span></a>\n",
       "<span style=\"color: #7fbfbf; text-decoration-color: #7fbfbf\">                    </span>         <span style=\"color: #008000; text-decoration-color: #008000\">'go-basic/owl2vec/ontology.embeddings'</span>, <span style=\"color: #008000; text-decoration-color: #008000\">'datetime'</span>:                       <span style=\"color: #7f7f7f; text-decoration-color: #7f7f7f\">            </span>\n",
       "<span style=\"color: #7fbfbf; text-decoration-color: #7fbfbf\">                    </span>         <span style=\"color: #008000; text-decoration-color: #008000\">'2024-11-17T22:12:07.731777'</span>, <span style=\"color: #008000; text-decoration-color: #008000\">'gensim'</span>: <span style=\"color: #008000; text-decoration-color: #008000\">'4.3.3'</span>, <span style=\"color: #008000; text-decoration-color: #008000\">'python'</span>: <span style=\"color: #008000; text-decoration-color: #008000\">'3.8.20 | </span>     <span style=\"color: #7f7f7f; text-decoration-color: #7f7f7f\">            </span>\n",
       "<span style=\"color: #7fbfbf; text-decoration-color: #7fbfbf\">                    </span>         <span style=\"color: #008000; text-decoration-color: #008000\">packaged by conda-forge | (default, Sep 30 2024, 17:48:42) \\n[Clang </span>      <span style=\"color: #7f7f7f; text-decoration-color: #7f7f7f\">            </span>\n",
       "<span style=\"color: #7fbfbf; text-decoration-color: #7fbfbf\">                    </span>         <span style=\"color: #008000; text-decoration-color: #008000\">17.0.6 ]'</span>, <span style=\"color: #008000; text-decoration-color: #008000\">'platform'</span>: <span style=\"color: #008000; text-decoration-color: #008000\">'macOS-15.1-arm64-arm-64bit'</span>, <span style=\"color: #008000; text-decoration-color: #008000\">'event'</span>: <span style=\"color: #008000; text-decoration-color: #008000\">'loaded'</span><span style=\"font-weight: bold\">}</span>   <span style=\"color: #7f7f7f; text-decoration-color: #7f7f7f\">            </span>\n",
       "</pre>\n"
      ],
      "text/plain": [
       "\u001b[2;36m[11/17/24 22:12:07]\u001b[0m\u001b[2;36m \u001b[0m\u001b[34mINFO    \u001b[0m Word2Vec lifecycle event \u001b[1m{\u001b[0m\u001b[32m'fname'\u001b[0m:                                        \u001b]8;id=545084;file:///Users/mmtf/miniforge3/envs/owl2vec/lib/python3.8/site-packages/gensim/utils.py\u001b\\\u001b[2mutils.py\u001b[0m\u001b]8;;\u001b\\\u001b[2m:\u001b[0m\u001b]8;id=155182;file:///Users/mmtf/miniforge3/envs/owl2vec/lib/python3.8/site-packages/gensim/utils.py#447\u001b\\\u001b[2m447\u001b[0m\u001b]8;;\u001b\\\n",
       "\u001b[2;36m                    \u001b[0m         \u001b[32m'go-basic/owl2vec/ontology.embeddings'\u001b[0m, \u001b[32m'datetime'\u001b[0m:                       \u001b[2m            \u001b[0m\n",
       "\u001b[2;36m                    \u001b[0m         \u001b[32m'2024-11-17T22:12:07.731777'\u001b[0m, \u001b[32m'gensim'\u001b[0m: \u001b[32m'4.3.3'\u001b[0m, \u001b[32m'python'\u001b[0m: \u001b[32m'3.8.20 | \u001b[0m     \u001b[2m            \u001b[0m\n",
       "\u001b[2;36m                    \u001b[0m         \u001b[32mpackaged by conda-forge | \u001b[0m\u001b[32m(\u001b[0m\u001b[32mdefault, Sep 30 2024, 17:48:42\u001b[0m\u001b[32m)\u001b[0m\u001b[32m \\n\u001b[0m\u001b[32m[\u001b[0m\u001b[32mClang \u001b[0m      \u001b[2m            \u001b[0m\n",
       "\u001b[2;36m                    \u001b[0m         \u001b[32m17.0.6 \u001b[0m\u001b[32m]\u001b[0m\u001b[32m'\u001b[0m, \u001b[32m'platform'\u001b[0m: \u001b[32m'macOS-15.1-arm64-arm-64bit'\u001b[0m, \u001b[32m'event'\u001b[0m: \u001b[32m'loaded'\u001b[0m\u001b[1m}\u001b[0m   \u001b[2m            \u001b[0m\n"
      ]
     },
     "metadata": {},
     "output_type": "display_data"
    },
    {
     "data": {
      "text/html": [
       "<pre style=\"white-space:pre;overflow-x:auto;line-height:normal;font-family:Menlo,'DejaVu Sans Mono',consolas,'Courier New',monospace\"><span style=\"color: #7fbfbf; text-decoration-color: #7fbfbf\">[11/17/24 22:12:38] </span><span style=\"color: #000080; text-decoration-color: #000080\">INFO    </span> Average number of label words available per class: <span style=\"color: #008080; text-decoration-color: #008080; font-weight: bold\">5.265237633365665</span>   <a href=\"file:///var/folders/pb/_0h8x45x091307x0pwzykw8h0000gn/T/ipykernel_35860/723607119.py\" target=\"_blank\"><span style=\"color: #7f7f7f; text-decoration-color: #7f7f7f\">723607119.py</span></a><span style=\"color: #7f7f7f; text-decoration-color: #7f7f7f\">:</span><a href=\"file:///var/folders/pb/_0h8x45x091307x0pwzykw8h0000gn/T/ipykernel_35860/723607119.py#46\" target=\"_blank\"><span style=\"color: #7f7f7f; text-decoration-color: #7f7f7f\">46</span></a>\n",
       "</pre>\n"
      ],
      "text/plain": [
       "\u001b[2;36m[11/17/24 22:12:38]\u001b[0m\u001b[2;36m \u001b[0m\u001b[34mINFO    \u001b[0m Average number of label words available per class: \u001b[1;36m5.265237633365665\u001b[0m   \u001b]8;id=242804;file:///var/folders/pb/_0h8x45x091307x0pwzykw8h0000gn/T/ipykernel_35860/723607119.py\u001b\\\u001b[2m723607119.py\u001b[0m\u001b]8;;\u001b\\\u001b[2m:\u001b[0m\u001b]8;id=836759;file:///var/folders/pb/_0h8x45x091307x0pwzykw8h0000gn/T/ipykernel_35860/723607119.py#46\u001b\\\u001b[2m46\u001b[0m\u001b]8;;\u001b\\\n"
      ]
     },
     "metadata": {},
     "output_type": "display_data"
    },
    {
     "data": {
      "text/html": [
       "<pre style=\"white-space:pre;overflow-x:auto;line-height:normal;font-family:Menlo,'DejaVu Sans Mono',consolas,'Courier New',monospace\"><span style=\"color: #7fbfbf; text-decoration-color: #7fbfbf\">                    </span><span style=\"color: #000080; text-decoration-color: #000080\">INFO    </span> Average number of words available per class: <span style=\"color: #008080; text-decoration-color: #008080; font-weight: bold\">38.02019398642095</span>         <a href=\"file:///var/folders/pb/_0h8x45x091307x0pwzykw8h0000gn/T/ipykernel_35860/723607119.py\" target=\"_blank\"><span style=\"color: #7f7f7f; text-decoration-color: #7f7f7f\">723607119.py</span></a><span style=\"color: #7f7f7f; text-decoration-color: #7f7f7f\">:</span><a href=\"file:///var/folders/pb/_0h8x45x091307x0pwzykw8h0000gn/T/ipykernel_35860/723607119.py#47\" target=\"_blank\"><span style=\"color: #7f7f7f; text-decoration-color: #7f7f7f\">47</span></a>\n",
       "</pre>\n"
      ],
      "text/plain": [
       "\u001b[2;36m                   \u001b[0m\u001b[2;36m \u001b[0m\u001b[34mINFO    \u001b[0m Average number of words available per class: \u001b[1;36m38.02019398642095\u001b[0m         \u001b]8;id=258196;file:///var/folders/pb/_0h8x45x091307x0pwzykw8h0000gn/T/ipykernel_35860/723607119.py\u001b\\\u001b[2m723607119.py\u001b[0m\u001b]8;;\u001b\\\u001b[2m:\u001b[0m\u001b]8;id=329814;file:///var/folders/pb/_0h8x45x091307x0pwzykw8h0000gn/T/ipykernel_35860/723607119.py#47\u001b\\\u001b[2m47\u001b[0m\u001b]8;;\u001b\\\n"
      ]
     },
     "metadata": {},
     "output_type": "display_data"
    },
    {
     "data": {
      "text/html": [
       "<pre style=\"white-space:pre;overflow-x:auto;line-height:normal;font-family:Menlo,'DejaVu Sans Mono',consolas,'Courier New',monospace\"><span style=\"color: #7fbfbf; text-decoration-color: #7fbfbf\">[11/17/24 22:12:42] </span><span style=\"color: #000080; text-decoration-color: #000080\">INFO    </span> Number of words lost: <span style=\"color: #008080; text-decoration-color: #008080; font-weight: bold\">0</span>                                                <a href=\"file:///var/folders/pb/_0h8x45x091307x0pwzykw8h0000gn/T/ipykernel_35860/723607119.py\" target=\"_blank\"><span style=\"color: #7f7f7f; text-decoration-color: #7f7f7f\">723607119.py</span></a><span style=\"color: #7f7f7f; text-decoration-color: #7f7f7f\">:</span><a href=\"file:///var/folders/pb/_0h8x45x091307x0pwzykw8h0000gn/T/ipykernel_35860/723607119.py#83\" target=\"_blank\"><span style=\"color: #7f7f7f; text-decoration-color: #7f7f7f\">83</span></a>\n",
       "</pre>\n"
      ],
      "text/plain": [
       "\u001b[2;36m[11/17/24 22:12:42]\u001b[0m\u001b[2;36m \u001b[0m\u001b[34mINFO    \u001b[0m Number of words lost: \u001b[1;36m0\u001b[0m                                                \u001b]8;id=633047;file:///var/folders/pb/_0h8x45x091307x0pwzykw8h0000gn/T/ipykernel_35860/723607119.py\u001b\\\u001b[2m723607119.py\u001b[0m\u001b]8;;\u001b\\\u001b[2m:\u001b[0m\u001b]8;id=669288;file:///var/folders/pb/_0h8x45x091307x0pwzykw8h0000gn/T/ipykernel_35860/723607119.py#83\u001b\\\u001b[2m83\u001b[0m\u001b]8;;\u001b\\\n"
      ]
     },
     "metadata": {},
     "output_type": "display_data"
    },
    {
     "data": {
      "text/html": [
       "<pre style=\"white-space:pre;overflow-x:auto;line-height:normal;font-family:Menlo,'DejaVu Sans Mono',consolas,'Courier New',monospace\"><span style=\"color: #7fbfbf; text-decoration-color: #7fbfbf\">                    </span><span style=\"color: #000080; text-decoration-color: #000080\">INFO    </span> Average number of words used per class: <span style=\"color: #008080; text-decoration-color: #008080; font-weight: bold\">4.110164888457808</span>              <a href=\"file:///var/folders/pb/_0h8x45x091307x0pwzykw8h0000gn/T/ipykernel_35860/723607119.py\" target=\"_blank\"><span style=\"color: #7f7f7f; text-decoration-color: #7f7f7f\">723607119.py</span></a><span style=\"color: #7f7f7f; text-decoration-color: #7f7f7f\">:</span><a href=\"file:///var/folders/pb/_0h8x45x091307x0pwzykw8h0000gn/T/ipykernel_35860/723607119.py#84\" target=\"_blank\"><span style=\"color: #7f7f7f; text-decoration-color: #7f7f7f\">84</span></a>\n",
       "</pre>\n"
      ],
      "text/plain": [
       "\u001b[2;36m                   \u001b[0m\u001b[2;36m \u001b[0m\u001b[34mINFO    \u001b[0m Average number of words used per class: \u001b[1;36m4.110164888457808\u001b[0m              \u001b]8;id=140576;file:///var/folders/pb/_0h8x45x091307x0pwzykw8h0000gn/T/ipykernel_35860/723607119.py\u001b\\\u001b[2m723607119.py\u001b[0m\u001b]8;;\u001b\\\u001b[2m:\u001b[0m\u001b]8;id=605438;file:///var/folders/pb/_0h8x45x091307x0pwzykw8h0000gn/T/ipykernel_35860/723607119.py#84\u001b\\\u001b[2m84\u001b[0m\u001b]8;;\u001b\\\n"
      ]
     },
     "metadata": {},
     "output_type": "display_data"
    },
    {
     "name": "stdout",
     "output_type": "stream",
     "text": [
      "Saved embeddings for 51550 classes\n",
      "Each embedding has dimension: 100 (word embeddings)\n"
     ]
    }
   ],
   "source": [
    "import logging\n",
    "from rich.logging import RichHandler\n",
    "\n",
    "logging.basicConfig(level=\"INFO\", format=\"%(message)s\", handlers=[RichHandler()])\n",
    "\n",
    "from pathlib import Path\n",
    "import numpy as np\n",
    "import gensim\n",
    "from nltk import word_tokenize\n",
    "import re\n",
    "\n",
    "# Load the model\n",
    "wv = gensim.models.KeyedVectors.load(str(base_path / \"owl2vec\" / \"ontology.embeddings\"), mmap=\"r\")\n",
    "\n",
    "\n",
    "# Helper functions from OWL2Vec_Plus.py\n",
    "def pre_process_words(words):\n",
    "    text = ' '.join([re.sub(r'https?:\\/\\/.*[\\r\\n]*', '', word, flags=re.MULTILINE) for word in words])\n",
    "    tokens = word_tokenize(text)\n",
    "    processed_tokens = [token.lower() for token in tokens if token.isalpha()]\n",
    "    return processed_tokens\n",
    "\n",
    "\n",
    "# Load classes and annotations\n",
    "classes = [line.strip() for line in open(base_path / \"split\" / \"classes.txt\").readlines()]\n",
    "uri_label = {}\n",
    "\n",
    "label_words = 0\n",
    "available_words = 0\n",
    "preproc_words = 0\n",
    "multilabels = []\n",
    "for line in open(base_path / \"cache\" / \"annotations.txt\").readlines():\n",
    "    tmp = line.strip().split()\n",
    "    if tmp[1] == \"preferred_label\" or tmp[1] == \"http://www.w3.org/2000/01/rdf-schema#label\":\n",
    "        uri_label[tmp[0]] = pre_process_words(tmp[2:])\n",
    "\n",
    "        if tmp[0] in uri_label and tmp[0] not in multilabels:\n",
    "            multilabels.append(tmp[0])\n",
    "        else:\n",
    "            preproc_words += len(uri_label[tmp[0]])\n",
    "        label_words += len(tmp) - 2\n",
    "        available_words += len(tmp) - 2\n",
    "    else:\n",
    "        available_words += len(tmp) - 2\n",
    "\n",
    "logging.info(f\"Average number of label words available per class: {label_words / len(classes)}\")\n",
    "logging.info(f\"Average number of words available per class: {available_words / len(classes)}\")\n",
    "\n",
    "\n",
    "n_s = []\n",
    "lost_words = 0\n",
    "def embed(model, instances, uri_label: dict):\n",
    "    def word_embeding(inst):\n",
    "        global lost_words\n",
    "        v = np.zeros(model.vector_size)\n",
    "        if inst in uri_label:\n",
    "            words = uri_label.get(inst)\n",
    "            n = 0\n",
    "            for word in words:\n",
    "                if word in model.wv.index_to_key:\n",
    "                    v += model.wv.get_vector(word)\n",
    "                    n += 1\n",
    "                else:\n",
    "                    lost_words += 1\n",
    "            return (v / n if n > 0 else v, n)\n",
    "        else:\n",
    "            return (v, 0)\n",
    "\n",
    "    feature_vectors = []\n",
    "    for instance in instances:\n",
    "        # Get both URI and word embeddings\n",
    "        # v_uri = model.get_vector(instance) if instance in model.index_to_key else np.zeros(model.vector_size)\n",
    "        v_word, n = word_embeding(inst=instance)\n",
    "        n_s.append(n)\n",
    "        # Concatenate them\n",
    "        feature_vectors.append(v_word)\n",
    "\n",
    "    return feature_vectors\n",
    "\n",
    "\n",
    "# Calculate embeddings\n",
    "classes_e = embed(model=wv, instances=classes, uri_label=uri_label)\n",
    "logging.info(f\"Number of words lost: {lost_words}\")\n",
    "logging.info(f\"Average number of words used per class: {np.mean(n_s)}\")\n",
    "# Extract GO IDs from class URIs and create dictionary\n",
    "go_ids = [cls.split('/')[-1] for cls in classes]\n",
    "embeddings_dict = {go_id: emb for go_id, emb in zip(go_ids, classes_e)}\n",
    "\n",
    "# Save embeddings\n",
    "np.save(str(base_path / \"owl2vec\" / \"ontology.embeddings.npy\"), embeddings_dict)\n",
    "\n",
    "print(f\"Saved embeddings for {len(embeddings_dict)} classes\")\n",
    "print(f\"Each embedding has dimension: {len(next(iter(embeddings_dict.values())))} (word embeddings)\")"
   ]
  },
  {
   "cell_type": "code",
   "execution_count": 4,
   "metadata": {},
   "outputs": [
    {
     "data": {
      "text/html": [
       "<pre style=\"white-space:pre;overflow-x:auto;line-height:normal;font-family:Menlo,'DejaVu Sans Mono',consolas,'Courier New',monospace\"><span style=\"color: #7fbfbf; text-decoration-color: #7fbfbf\">[11/15/24 18:46:20] </span><span style=\"color: #000080; text-decoration-color: #000080\">INFO    </span> Number of duplicate classes: <span style=\"color: #008080; text-decoration-color: #008080; font-weight: bold\">452011</span>                                     <a href=\"file:///var/folders/pb/_0h8x45x091307x0pwzykw8h0000gn/T/ipykernel_85971/548770051.py\" target=\"_blank\"><span style=\"color: #7f7f7f; text-decoration-color: #7f7f7f\">548770051.py</span></a><span style=\"color: #7f7f7f; text-decoration-color: #7f7f7f\">:</span><a href=\"file:///var/folders/pb/_0h8x45x091307x0pwzykw8h0000gn/T/ipykernel_85971/548770051.py#6\" target=\"_blank\"><span style=\"color: #7f7f7f; text-decoration-color: #7f7f7f\">6</span></a>\n",
       "</pre>\n"
      ],
      "text/plain": [
       "\u001b[2;36m[11/15/24 18:46:20]\u001b[0m\u001b[2;36m \u001b[0m\u001b[34mINFO    \u001b[0m Number of duplicate classes: \u001b[1;36m452011\u001b[0m                                     \u001b]8;id=279699;file:///var/folders/pb/_0h8x45x091307x0pwzykw8h0000gn/T/ipykernel_85971/548770051.py\u001b\\\u001b[2m548770051.py\u001b[0m\u001b]8;;\u001b\\\u001b[2m:\u001b[0m\u001b]8;id=413519;file:///var/folders/pb/_0h8x45x091307x0pwzykw8h0000gn/T/ipykernel_85971/548770051.py#6\u001b\\\u001b[2m6\u001b[0m\u001b]8;;\u001b\\\n"
      ]
     },
     "metadata": {},
     "output_type": "display_data"
    }
   ],
   "source": [
    "duplicates = []\n",
    "for line in open(base_path / \"cache\" / \"annotations.txt\").readlines():\n",
    "    tmp = line.strip().split()\n",
    "    if tmp[0] in multilabels:\n",
    "        duplicates.append(tmp)\n",
    "logging.info(f\"Number of duplicate classes: {len(duplicates)}\")\n"
   ]
  },
  {
   "cell_type": "code",
   "execution_count": 11,
   "metadata": {},
   "outputs": [
    {
     "ename": "NameError",
     "evalue": "name 'duplicat' is not defined",
     "output_type": "error",
     "traceback": [
      "\u001b[0;31m---------------------------------------------------------------------------\u001b[0m",
      "\u001b[0;31mNameError\u001b[0m                                 Traceback (most recent call last)",
      "Cell \u001b[0;32mIn[11], line 1\u001b[0m\n\u001b[0;32m----> 1\u001b[0m \u001b[38;5;28mlen\u001b[39m(\u001b[43mduplicat\u001b[49m)\n",
      "\u001b[0;31mNameError\u001b[0m: name 'duplicat' is not defined"
     ]
    }
   ],
   "source": [
    "len(duplicates)"
   ]
  },
  {
   "cell_type": "code",
   "execution_count": 6,
   "metadata": {},
   "outputs": [
    {
     "data": {
      "text/plain": [
       "0.5823162462706808"
      ]
     },
     "execution_count": 6,
     "metadata": {},
     "output_type": "execute_result"
    }
   ],
   "source": [
    "preproc_words / len(classes)"
   ]
  },
  {
   "cell_type": "code",
   "execution_count": null,
   "metadata": {},
   "outputs": [],
   "source": []
  }
 ],
 "metadata": {
  "kernelspec": {
   "display_name": "default",
   "language": "python",
   "name": "python3"
  },
  "language_info": {
   "codemirror_mode": {
    "name": "ipython",
    "version": 3
   },
   "file_extension": ".py",
   "mimetype": "text/x-python",
   "name": "python",
   "nbconvert_exporter": "python",
   "pygments_lexer": "ipython3",
   "version": "3.8.20"
  }
 },
 "nbformat": 4,
 "nbformat_minor": 2
}
