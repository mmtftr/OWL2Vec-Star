{
 "cells": [
  {
   "cell_type": "code",
   "execution_count": 3,
   "metadata": {},
   "outputs": [],
   "source": [
    "from pathlib import Path\n",
    "import numpy as np\n",
    "import gensim\n",
    "\n",
    "base_path = Path(\"go-full\")"
   ]
  },
  {
   "cell_type": "code",
   "execution_count": 9,
   "metadata": {},
   "outputs": [],
   "source": [
    "wv = gensim.models.KeyedVectors.load(str(base_path / \"owl2vec\" / \"ontology.embeddings\"), mmap=\"r\")"
   ]
  },
  {
   "cell_type": "code",
   "execution_count": 15,
   "metadata": {},
   "outputs": [
    {
     "name": "stdout",
     "output_type": "stream",
     "text": [
      "Saved embeddings for 51550 classes\n",
      "Each embedding has dimension: 100 (URI + word embeddings)\n"
     ]
    }
   ],
   "source": [
    "from pathlib import Path\n",
    "import numpy as np\n",
    "import gensim\n",
    "from nltk import word_tokenize\n",
    "import re\n",
    "\n",
    "base_path = Path(\"go-full\")\n",
    "\n",
    "# Load the model\n",
    "wv = gensim.models.KeyedVectors.load(str(base_path / \"owl2vec\" / \"ontology.embeddings\"), mmap=\"r\")\n",
    "\n",
    "# Helper functions from OWL2Vec_Plus.py\n",
    "def pre_process_words(words):\n",
    "    text = ' '.join([re.sub(r'https?:\\/\\/.*[\\r\\n]*', '', word, flags=re.MULTILINE) for word in words])\n",
    "    tokens = word_tokenize(text)\n",
    "    processed_tokens = [token.lower() for token in tokens if token.isalpha()]\n",
    "    return processed_tokens\n",
    "\n",
    "def embed(model, instances, uri_label=None):\n",
    "    def word_embeding(inst):\n",
    "        v = np.zeros(model.vector_size)\n",
    "        if uri_label and inst in uri_label:\n",
    "            words = uri_label.get(inst)\n",
    "            n = 0\n",
    "            for word in words:\n",
    "                if word in model.wv.index_to_key:\n",
    "                    v += model.wv.get_vector(word)\n",
    "                    n += 1\n",
    "            return v / n if n > 0 else v\n",
    "        else:\n",
    "            return v\n",
    "\n",
    "    feature_vectors = []\n",
    "    for instance in instances:\n",
    "        # Get both URI and word embeddings\n",
    "        # v_uri = model.get_vector(instance) if instance in model.index_to_key else np.zeros(model.vector_size)\n",
    "        v_word = word_embeding(inst=instance)\n",
    "        # Concatenate them\n",
    "        feature_vectors.append(v_word)\n",
    "\n",
    "    return feature_vectors\n",
    "\n",
    "# Load classes and annotations\n",
    "classes = [line.strip() for line in open(base_path / \"split\" / \"classes.txt\").readlines()]\n",
    "uri_label = {}\n",
    "for line in open(base_path / \"cache\" / \"annotations.txt\").readlines():\n",
    "    tmp = line.strip().split()\n",
    "    if tmp[1] == 'http://www.w3.org/2000/01/rdf-schema#label':\n",
    "        uri_label[tmp[0]] = pre_process_words(tmp[2:])\n",
    "\n",
    "# Calculate embeddings\n",
    "classes_e = embed(model=wv, instances=classes, uri_label=uri_label)\n",
    "\n",
    "# Extract GO IDs from class URIs and create dictionary\n",
    "go_ids = [cls.split('/')[-1] for cls in classes]\n",
    "embeddings_dict = {go_id: emb for go_id, emb in zip(go_ids, classes_e)}\n",
    "\n",
    "# Save embeddings\n",
    "np.save(str(base_path / \"owl2vec\" / \"ontology.embeddings.npy\"), embeddings_dict)\n",
    "\n",
    "print(f\"Saved embeddings for {len(embeddings_dict)} classes\")\n",
    "print(f\"Each embedding has dimension: {len(next(iter(embeddings_dict.values())))} (URI + word embeddings)\")"
   ]
  },
  {
   "cell_type": "code",
   "execution_count": null,
   "metadata": {},
   "outputs": [],
   "source": []
  }
 ],
 "metadata": {
  "kernelspec": {
   "display_name": "default",
   "language": "python",
   "name": "python3"
  },
  "language_info": {
   "codemirror_mode": {
    "name": "ipython",
    "version": 3
   },
   "file_extension": ".py",
   "mimetype": "text/x-python",
   "name": "python",
   "nbconvert_exporter": "python",
   "pygments_lexer": "ipython3",
   "version": "3.9.20"
  }
 },
 "nbformat": 4,
 "nbformat_minor": 2
}
